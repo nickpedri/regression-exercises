{
 "cells": [
  {
   "cell_type": "markdown",
   "id": "58b7176a-9562-4cff-bca1-52902cd5aa7f",
   "metadata": {},
   "source": [
    "# Scaling Exercises\n",
    "\n",
    "Do your work for these exercises in a jupyter notebook named scaling. Use the zillow dataset you acquired and prepped in previous lesson. Once you are finished, you may wish to repeat the exercises on another dataset for additional practice."
   ]
  },
  {
   "cell_type": "code",
   "execution_count": 1,
   "id": "e8658220-29f7-4792-b4c3-a12490906c3c",
   "metadata": {},
   "outputs": [],
   "source": [
    "import numpy as np\n",
    "import pandas as pd\n",
    "import os\n",
    "\n",
    "import matplotlib.pyplot as plt\n",
    "import seaborn as sns\n",
    "\n",
    "import wrangle as wg\n",
    "\n",
    "from env import get_connection\n",
    "\n",
    "from sklearn.preprocessing import MinMaxScaler, StandardScaler, RobustScaler\n",
    "from sklearn.preprocessing import QuantileTransformer"
   ]
  },
  {
   "cell_type": "markdown",
   "id": "16fb8a54-ce8c-4744-8144-9df63fd4fd86",
   "metadata": {},
   "source": [
    "## 1. Apply the scalers we talked about in this lesson to your data and visualize the results for the unscaled and scaled distribution ."
   ]
  },
  {
   "cell_type": "code",
   "execution_count": 2,
   "id": "dab6ceda-bdb3-4ec0-8753-0ed44710bca2",
   "metadata": {},
   "outputs": [
    {
     "data": {
      "text/html": [
       "<div>\n",
       "<style scoped>\n",
       "    .dataframe tbody tr th:only-of-type {\n",
       "        vertical-align: middle;\n",
       "    }\n",
       "\n",
       "    .dataframe tbody tr th {\n",
       "        vertical-align: top;\n",
       "    }\n",
       "\n",
       "    .dataframe thead th {\n",
       "        text-align: right;\n",
       "    }\n",
       "</style>\n",
       "<table border=\"1\" class=\"dataframe\">\n",
       "  <thead>\n",
       "    <tr style=\"text-align: right;\">\n",
       "      <th></th>\n",
       "      <th>bedrooms</th>\n",
       "      <th>bathrooms</th>\n",
       "      <th>sq_ft</th>\n",
       "      <th>price</th>\n",
       "      <th>year_built</th>\n",
       "      <th>tax_amount</th>\n",
       "      <th>fips</th>\n",
       "    </tr>\n",
       "  </thead>\n",
       "  <tbody>\n",
       "    <tr>\n",
       "      <th>4</th>\n",
       "      <td>4</td>\n",
       "      <td>2.0</td>\n",
       "      <td>3633.0</td>\n",
       "      <td>296425.0</td>\n",
       "      <td>2005</td>\n",
       "      <td>6941.39</td>\n",
       "      <td>Los Angeles County</td>\n",
       "    </tr>\n",
       "    <tr>\n",
       "      <th>6</th>\n",
       "      <td>3</td>\n",
       "      <td>4.0</td>\n",
       "      <td>1620.0</td>\n",
       "      <td>847770.0</td>\n",
       "      <td>2011</td>\n",
       "      <td>10244.94</td>\n",
       "      <td>Los Angeles County</td>\n",
       "    </tr>\n",
       "    <tr>\n",
       "      <th>7</th>\n",
       "      <td>3</td>\n",
       "      <td>2.0</td>\n",
       "      <td>2077.0</td>\n",
       "      <td>646760.0</td>\n",
       "      <td>1926</td>\n",
       "      <td>7924.68</td>\n",
       "      <td>Los Angeles County</td>\n",
       "    </tr>\n",
       "    <tr>\n",
       "      <th>11</th>\n",
       "      <td>0</td>\n",
       "      <td>0.0</td>\n",
       "      <td>1200.0</td>\n",
       "      <td>5328.0</td>\n",
       "      <td>1972</td>\n",
       "      <td>91.60</td>\n",
       "      <td>Los Angeles County</td>\n",
       "    </tr>\n",
       "    <tr>\n",
       "      <th>14</th>\n",
       "      <td>0</td>\n",
       "      <td>0.0</td>\n",
       "      <td>171.0</td>\n",
       "      <td>6920.0</td>\n",
       "      <td>1973</td>\n",
       "      <td>255.17</td>\n",
       "      <td>Los Angeles County</td>\n",
       "    </tr>\n",
       "  </tbody>\n",
       "</table>\n",
       "</div>"
      ],
      "text/plain": [
       "    bedrooms  bathrooms   sq_ft     price  year_built  tax_amount  \\\n",
       "4          4        2.0  3633.0  296425.0        2005     6941.39   \n",
       "6          3        4.0  1620.0  847770.0        2011    10244.94   \n",
       "7          3        2.0  2077.0  646760.0        1926     7924.68   \n",
       "11         0        0.0  1200.0    5328.0        1972       91.60   \n",
       "14         0        0.0   171.0    6920.0        1973      255.17   \n",
       "\n",
       "                  fips  \n",
       "4   Los Angeles County  \n",
       "6   Los Angeles County  \n",
       "7   Los Angeles County  \n",
       "11  Los Angeles County  \n",
       "14  Los Angeles County  "
      ]
     },
     "execution_count": 2,
     "metadata": {},
     "output_type": "execute_result"
    }
   ],
   "source": [
    "zil = wg.wrangle_zillow(True)\n",
    "zil.head()"
   ]
  },
  {
   "cell_type": "code",
   "execution_count": 3,
   "id": "0c7b1efb-b551-411a-b07b-035260e7c819",
   "metadata": {},
   "outputs": [
    {
     "data": {
      "text/plain": [
       "((1498164, 7), (321035, 7), (321036, 7))"
      ]
     },
     "execution_count": 3,
     "metadata": {},
     "output_type": "execute_result"
    }
   ],
   "source": [
    "train, val, test = wg.train_val_test(zil)\n",
    "\n",
    "train.shape, val.shape, test.shape"
   ]
  },
  {
   "cell_type": "code",
   "execution_count": 4,
   "id": "ff47388a-be18-4f45-9c93-a90eda23a179",
   "metadata": {},
   "outputs": [],
   "source": [
    "def compare_data(scaled_col='none', df = train, original = 'price'):\n",
    "    \n",
    "    plt.figure(figsize=(13, 8))\n",
    "\n",
    "    plt.subplot(121)\n",
    "    sns.histplot(data=df, x=original, bins=10)\n",
    "\n",
    "    plt.subplot(122)\n",
    "    sns.histplot(data=df, x=scaled_col, bins=10)\n",
    "\n",
    "    plt.show()"
   ]
  },
  {
   "cell_type": "code",
   "execution_count": 5,
   "id": "de6f658b-fa62-4b51-a891-676c74ebc367",
   "metadata": {},
   "outputs": [
    {
     "data": {
      "text/plain": [
       "Index(['bedrooms', 'bathrooms', 'sq_ft', 'price', 'year_built', 'tax_amount',\n",
       "       'fips'],\n",
       "      dtype='object')"
      ]
     },
     "execution_count": 5,
     "metadata": {},
     "output_type": "execute_result"
    }
   ],
   "source": [
    "train.columns"
   ]
  },
  {
   "cell_type": "code",
   "execution_count": 6,
   "id": "e761491f-d024-4d67-8e09-1ff1702759d3",
   "metadata": {},
   "outputs": [],
   "source": [
    "scaled_cols = ['sq_ft', 'price', 'tax_amount']\n",
    "\n",
    "mms = MinMaxScaler()\n",
    "train_mms = train.copy()\n",
    "mms.fit(train[scaled_cols])\n",
    "train_mms[['sq_ft_mms', 'price_mms', 'tax_amount_mms']] = mms.transform(train[scaled_cols])\n",
    "\n",
    "ss = StandardScaler()\n",
    "train_ss = train.copy()\n",
    "ss.fit(train[scaled_cols])\n",
    "train_ss[['sq_ft_ss', 'price_ss', 'tax_amount_ss']] = ss.transform(train[scaled_cols])\n",
    "\n",
    "rs = RobustScaler()\n",
    "train_rs = train.copy()\n",
    "rs.fit(train[scaled_cols])\n",
    "train_rs[['sq_ft_rs', 'price_rs', 'tax_amount_rs']] = rs.transform(train[scaled_cols])"
   ]
  },
  {
   "cell_type": "code",
   "execution_count": 7,
   "id": "4697fabf-ddc9-4b57-8070-25eb78b8f3ed",
   "metadata": {},
   "outputs": [
    {
     "data": {
      "text/html": [
       "<div>\n",
       "<style scoped>\n",
       "    .dataframe tbody tr th:only-of-type {\n",
       "        vertical-align: middle;\n",
       "    }\n",
       "\n",
       "    .dataframe tbody tr th {\n",
       "        vertical-align: top;\n",
       "    }\n",
       "\n",
       "    .dataframe thead th {\n",
       "        text-align: right;\n",
       "    }\n",
       "</style>\n",
       "<table border=\"1\" class=\"dataframe\">\n",
       "  <thead>\n",
       "    <tr style=\"text-align: right;\">\n",
       "      <th></th>\n",
       "      <th>bedrooms</th>\n",
       "      <th>bathrooms</th>\n",
       "      <th>sq_ft</th>\n",
       "      <th>price</th>\n",
       "      <th>year_built</th>\n",
       "      <th>tax_amount</th>\n",
       "      <th>fips</th>\n",
       "      <th>sq_ft_mms</th>\n",
       "      <th>price_mms</th>\n",
       "      <th>tax_amount_mms</th>\n",
       "    </tr>\n",
       "  </thead>\n",
       "  <tbody>\n",
       "    <tr>\n",
       "      <th>1816338</th>\n",
       "      <td>4</td>\n",
       "      <td>3.0</td>\n",
       "      <td>2131.0</td>\n",
       "      <td>350540.0</td>\n",
       "      <td>1977</td>\n",
       "      <td>4719.83</td>\n",
       "      <td>Los Angeles County</td>\n",
       "      <td>0.002236</td>\n",
       "      <td>0.003887</td>\n",
       "      <td>0.004366</td>\n",
       "    </tr>\n",
       "    <tr>\n",
       "      <th>1770176</th>\n",
       "      <td>3</td>\n",
       "      <td>3.0</td>\n",
       "      <td>2084.0</td>\n",
       "      <td>425101.0</td>\n",
       "      <td>1953</td>\n",
       "      <td>6397.19</td>\n",
       "      <td>Los Angeles County</td>\n",
       "      <td>0.002187</td>\n",
       "      <td>0.004713</td>\n",
       "      <td>0.005921</td>\n",
       "    </tr>\n",
       "    <tr>\n",
       "      <th>1033606</th>\n",
       "      <td>4</td>\n",
       "      <td>3.0</td>\n",
       "      <td>2361.0</td>\n",
       "      <td>380546.0</td>\n",
       "      <td>2008</td>\n",
       "      <td>4815.34</td>\n",
       "      <td>Los Angeles County</td>\n",
       "      <td>0.002477</td>\n",
       "      <td>0.004219</td>\n",
       "      <td>0.004454</td>\n",
       "    </tr>\n",
       "  </tbody>\n",
       "</table>\n",
       "</div>"
      ],
      "text/plain": [
       "         bedrooms  bathrooms   sq_ft     price  year_built  tax_amount  \\\n",
       "1816338         4        3.0  2131.0  350540.0        1977     4719.83   \n",
       "1770176         3        3.0  2084.0  425101.0        1953     6397.19   \n",
       "1033606         4        3.0  2361.0  380546.0        2008     4815.34   \n",
       "\n",
       "                       fips  sq_ft_mms  price_mms  tax_amount_mms  \n",
       "1816338  Los Angeles County   0.002236   0.003887        0.004366  \n",
       "1770176  Los Angeles County   0.002187   0.004713        0.005921  \n",
       "1033606  Los Angeles County   0.002477   0.004219        0.004454  "
      ]
     },
     "execution_count": 7,
     "metadata": {},
     "output_type": "execute_result"
    }
   ],
   "source": [
    "train_mms.head(3)"
   ]
  },
  {
   "cell_type": "code",
   "execution_count": 8,
   "id": "f7d7994d-4627-4548-bdf8-83ace0779a16",
   "metadata": {},
   "outputs": [
    {
     "data": {
      "text/plain": [
       "0.9818684736784491"
      ]
     },
     "execution_count": 8,
     "metadata": {},
     "output_type": "execute_result"
    }
   ],
   "source": [
    "len(train_mms[train_mms.price < 2_000_000])/len(train_mms)"
   ]
  },
  {
   "cell_type": "code",
   "execution_count": 9,
   "id": "749e1a4c-5379-42c9-b66a-bfdf66858c07",
   "metadata": {},
   "outputs": [
    {
     "data": {
      "image/png": "[encoded data removed]",
      "text/plain": [
       "<Figure size 1300x800 with 2 Axes>"
      ]
     },
     "metadata": {},
     "output_type": "display_data"
    }
   ],
   "source": [
    "compare_data('price_mms', df = train_mms[train_mms.price < 2_000_000])"
   ]
  },
  {
   "cell_type": "code",
   "execution_count": 10,
   "id": "a07f66a7-8b97-451c-a42c-fcb1be04279e",
   "metadata": {},
   "outputs": [
    {
     "data": {
      "text/html": [
       "<div>\n",
       "<style scoped>\n",
       "    .dataframe tbody tr th:only-of-type {\n",
       "        vertical-align: middle;\n",
       "    }\n",
       "\n",
       "    .dataframe tbody tr th {\n",
       "        vertical-align: top;\n",
       "    }\n",
       "\n",
       "    .dataframe thead th {\n",
       "        text-align: right;\n",
       "    }\n",
       "</style>\n",
       "<table border=\"1\" class=\"dataframe\">\n",
       "  <thead>\n",
       "    <tr style=\"text-align: right;\">\n",
       "      <th></th>\n",
       "      <th>bedrooms</th>\n",
       "      <th>bathrooms</th>\n",
       "      <th>sq_ft</th>\n",
       "      <th>price</th>\n",
       "      <th>year_built</th>\n",
       "      <th>tax_amount</th>\n",
       "      <th>fips</th>\n",
       "      <th>sq_ft_ss</th>\n",
       "      <th>price_ss</th>\n",
       "      <th>tax_amount_ss</th>\n",
       "    </tr>\n",
       "  </thead>\n",
       "  <tbody>\n",
       "    <tr>\n",
       "      <th>1816338</th>\n",
       "      <td>4</td>\n",
       "      <td>3.0</td>\n",
       "      <td>2131.0</td>\n",
       "      <td>350540.0</td>\n",
       "      <td>1977</td>\n",
       "      <td>4719.83</td>\n",
       "      <td>Los Angeles County</td>\n",
       "      <td>0.203144</td>\n",
       "      <td>-0.162678</td>\n",
       "      <td>-0.114411</td>\n",
       "    </tr>\n",
       "    <tr>\n",
       "      <th>1770176</th>\n",
       "      <td>3</td>\n",
       "      <td>3.0</td>\n",
       "      <td>2084.0</td>\n",
       "      <td>425101.0</td>\n",
       "      <td>1953</td>\n",
       "      <td>6397.19</td>\n",
       "      <td>Los Angeles County</td>\n",
       "      <td>0.167455</td>\n",
       "      <td>-0.051948</td>\n",
       "      <td>0.101098</td>\n",
       "    </tr>\n",
       "    <tr>\n",
       "      <th>1033606</th>\n",
       "      <td>4</td>\n",
       "      <td>3.0</td>\n",
       "      <td>2361.0</td>\n",
       "      <td>380546.0</td>\n",
       "      <td>2008</td>\n",
       "      <td>4815.34</td>\n",
       "      <td>Los Angeles County</td>\n",
       "      <td>0.377795</td>\n",
       "      <td>-0.118116</td>\n",
       "      <td>-0.102140</td>\n",
       "    </tr>\n",
       "  </tbody>\n",
       "</table>\n",
       "</div>"
      ],
      "text/plain": [
       "         bedrooms  bathrooms   sq_ft     price  year_built  tax_amount  \\\n",
       "1816338         4        3.0  2131.0  350540.0        1977     4719.83   \n",
       "1770176         3        3.0  2084.0  425101.0        1953     6397.19   \n",
       "1033606         4        3.0  2361.0  380546.0        2008     4815.34   \n",
       "\n",
       "                       fips  sq_ft_ss  price_ss  tax_amount_ss  \n",
       "1816338  Los Angeles County  0.203144 -0.162678      -0.114411  \n",
       "1770176  Los Angeles County  0.167455 -0.051948       0.101098  \n",
       "1033606  Los Angeles County  0.377795 -0.118116      -0.102140  "
      ]
     },
     "execution_count": 10,
     "metadata": {},
     "output_type": "execute_result"
    }
   ],
   "source": [
    "train_ss.head(3)"
   ]
  },
  {
   "cell_type": "code",
   "execution_count": 11,
   "id": "1686ae50-9003-48e0-bbd7-e1e6619e5b1e",
   "metadata": {},
   "outputs": [
    {
     "data": {
      "text/plain": [
       "0.9873712090265151"
      ]
     },
     "execution_count": 11,
     "metadata": {},
     "output_type": "execute_result"
    }
   ],
   "source": [
    "len(train_mms[train_mms.sq_ft < 5_000])/len(train_mms)"
   ]
  },
  {
   "cell_type": "code",
   "execution_count": 12,
   "id": "a4e47845-687d-49ee-ac01-de7cd8ec6c92",
   "metadata": {},
   "outputs": [
    {
     "data": {
      "image/png": "[encoded data removed]",
      "text/plain": [
       "<Figure size 1300x800 with 2 Axes>"
      ]
     },
     "metadata": {},
     "output_type": "display_data"
    }
   ],
   "source": [
    "compare_data('sq_ft_ss', original ='sq_ft', df = train_ss[train_ss.sq_ft < 5_000])"
   ]
  },
  {
   "cell_type": "code",
   "execution_count": 13,
   "id": "4e426a6d-ee5a-4684-b45e-2f2cdac17b4a",
   "metadata": {},
   "outputs": [
    {
     "data": {
      "text/html": [
       "<div>\n",
       "<style scoped>\n",
       "    .dataframe tbody tr th:only-of-type {\n",
       "        vertical-align: middle;\n",
       "    }\n",
       "\n",
       "    .dataframe tbody tr th {\n",
       "        vertical-align: top;\n",
       "    }\n",
       "\n",
       "    .dataframe thead th {\n",
       "        text-align: right;\n",
       "    }\n",
       "</style>\n",
       "<table border=\"1\" class=\"dataframe\">\n",
       "  <thead>\n",
       "    <tr style=\"text-align: right;\">\n",
       "      <th></th>\n",
       "      <th>bedrooms</th>\n",
       "      <th>bathrooms</th>\n",
       "      <th>sq_ft</th>\n",
       "      <th>price</th>\n",
       "      <th>year_built</th>\n",
       "      <th>tax_amount</th>\n",
       "      <th>fips</th>\n",
       "      <th>sq_ft_rs</th>\n",
       "      <th>price_rs</th>\n",
       "      <th>tax_amount_rs</th>\n",
       "    </tr>\n",
       "  </thead>\n",
       "  <tbody>\n",
       "    <tr>\n",
       "      <th>1816338</th>\n",
       "      <td>4</td>\n",
       "      <td>3.0</td>\n",
       "      <td>2131.0</td>\n",
       "      <td>350540.0</td>\n",
       "      <td>1977</td>\n",
       "      <td>4719.83</td>\n",
       "      <td>Los Angeles County</td>\n",
       "      <td>0.533684</td>\n",
       "      <td>0.063658</td>\n",
       "      <td>0.156881</td>\n",
       "    </tr>\n",
       "    <tr>\n",
       "      <th>1770176</th>\n",
       "      <td>3</td>\n",
       "      <td>3.0</td>\n",
       "      <td>2084.0</td>\n",
       "      <td>425101.0</td>\n",
       "      <td>1953</td>\n",
       "      <td>6397.19</td>\n",
       "      <td>Los Angeles County</td>\n",
       "      <td>0.484211</td>\n",
       "      <td>0.279481</td>\n",
       "      <td>0.590101</td>\n",
       "    </tr>\n",
       "    <tr>\n",
       "      <th>1033606</th>\n",
       "      <td>4</td>\n",
       "      <td>3.0</td>\n",
       "      <td>2361.0</td>\n",
       "      <td>380546.0</td>\n",
       "      <td>2008</td>\n",
       "      <td>4815.34</td>\n",
       "      <td>Los Angeles County</td>\n",
       "      <td>0.775789</td>\n",
       "      <td>0.150513</td>\n",
       "      <td>0.181549</td>\n",
       "    </tr>\n",
       "  </tbody>\n",
       "</table>\n",
       "</div>"
      ],
      "text/plain": [
       "         bedrooms  bathrooms   sq_ft     price  year_built  tax_amount  \\\n",
       "1816338         4        3.0  2131.0  350540.0        1977     4719.83   \n",
       "1770176         3        3.0  2084.0  425101.0        1953     6397.19   \n",
       "1033606         4        3.0  2361.0  380546.0        2008     4815.34   \n",
       "\n",
       "                       fips  sq_ft_rs  price_rs  tax_amount_rs  \n",
       "1816338  Los Angeles County  0.533684  0.063658       0.156881  \n",
       "1770176  Los Angeles County  0.484211  0.279481       0.590101  \n",
       "1033606  Los Angeles County  0.775789  0.150513       0.181549  "
      ]
     },
     "execution_count": 13,
     "metadata": {},
     "output_type": "execute_result"
    }
   ],
   "source": [
    "train_rs.head(3)"
   ]
  },
  {
   "cell_type": "code",
   "execution_count": 14,
   "id": "7a017f60-798d-43a0-9e3b-4c784a64490a",
   "metadata": {},
   "outputs": [
    {
     "data": {
      "text/plain": [
       "0.9842747522968113"
      ]
     },
     "execution_count": 14,
     "metadata": {},
     "output_type": "execute_result"
    }
   ],
   "source": [
    "len(train_mms[train_mms.tax_amount < 25_000])/len(train_mms)"
   ]
  },
  {
   "cell_type": "code",
   "execution_count": 15,
   "id": "dd3771b1-1e4c-4968-b67c-350c07322cf1",
   "metadata": {},
   "outputs": [
    {
     "data": {
      "image/png": "[encoded data removed]",
      "text/plain": [
       "<Figure size 1300x800 with 2 Axes>"
      ]
     },
     "metadata": {},
     "output_type": "display_data"
    }
   ],
   "source": [
    "compare_data('tax_amount_rs', original ='tax_amount', df = train_rs[train_ss.tax_amount < 25_000])"
   ]
  },
  {
   "cell_type": "markdown",
   "id": "65ae1fbd-29fd-4c4e-b499-6b2f7c2a214e",
   "metadata": {},
   "source": [
    "## 2. Apply the .inverse_transform method to your scaled data. Is the resulting dataset the exact same as the original data?"
   ]
  },
  {
   "cell_type": "code",
   "execution_count": 16,
   "id": "060e0a5d-fb3f-442e-9f6f-3b559de06dca",
   "metadata": {},
   "outputs": [
    {
     "data": {
      "text/html": [
       "<div>\n",
       "<style scoped>\n",
       "    .dataframe tbody tr th:only-of-type {\n",
       "        vertical-align: middle;\n",
       "    }\n",
       "\n",
       "    .dataframe tbody tr th {\n",
       "        vertical-align: top;\n",
       "    }\n",
       "\n",
       "    .dataframe thead th {\n",
       "        text-align: right;\n",
       "    }\n",
       "</style>\n",
       "<table border=\"1\" class=\"dataframe\">\n",
       "  <thead>\n",
       "    <tr style=\"text-align: right;\">\n",
       "      <th></th>\n",
       "      <th>0</th>\n",
       "      <th>1</th>\n",
       "      <th>2</th>\n",
       "    </tr>\n",
       "  </thead>\n",
       "  <tbody>\n",
       "    <tr>\n",
       "      <th>0</th>\n",
       "      <td>2131.0</td>\n",
       "      <td>350540.0</td>\n",
       "      <td>4719.83</td>\n",
       "    </tr>\n",
       "    <tr>\n",
       "      <th>1</th>\n",
       "      <td>2084.0</td>\n",
       "      <td>425101.0</td>\n",
       "      <td>6397.19</td>\n",
       "    </tr>\n",
       "    <tr>\n",
       "      <th>2</th>\n",
       "      <td>2361.0</td>\n",
       "      <td>380546.0</td>\n",
       "      <td>4815.34</td>\n",
       "    </tr>\n",
       "    <tr>\n",
       "      <th>3</th>\n",
       "      <td>2289.0</td>\n",
       "      <td>293831.0</td>\n",
       "      <td>3559.74</td>\n",
       "    </tr>\n",
       "    <tr>\n",
       "      <th>4</th>\n",
       "      <td>2901.0</td>\n",
       "      <td>470040.0</td>\n",
       "      <td>5509.28</td>\n",
       "    </tr>\n",
       "  </tbody>\n",
       "</table>\n",
       "</div>"
      ],
      "text/plain": [
       "        0         1        2\n",
       "0  2131.0  350540.0  4719.83\n",
       "1  2084.0  425101.0  6397.19\n",
       "2  2361.0  380546.0  4815.34\n",
       "3  2289.0  293831.0  3559.74\n",
       "4  2901.0  470040.0  5509.28"
      ]
     },
     "execution_count": 16,
     "metadata": {},
     "output_type": "execute_result"
    }
   ],
   "source": [
    "og_data = mms.inverse_transform(train_mms[['sq_ft_mms', 'price_mms', 'tax_amount_mms']])\n",
    "pd.DataFrame(og_data).head()"
   ]
  },
  {
   "cell_type": "code",
   "execution_count": 17,
   "id": "722df1b3-96ac-40c5-8b5f-bd8017103549",
   "metadata": {},
   "outputs": [
    {
     "data": {
      "text/html": [
       "<div>\n",
       "<style scoped>\n",
       "    .dataframe tbody tr th:only-of-type {\n",
       "        vertical-align: middle;\n",
       "    }\n",
       "\n",
       "    .dataframe tbody tr th {\n",
       "        vertical-align: top;\n",
       "    }\n",
       "\n",
       "    .dataframe thead th {\n",
       "        text-align: right;\n",
       "    }\n",
       "</style>\n",
       "<table border=\"1\" class=\"dataframe\">\n",
       "  <thead>\n",
       "    <tr style=\"text-align: right;\">\n",
       "      <th></th>\n",
       "      <th>bedrooms</th>\n",
       "      <th>bathrooms</th>\n",
       "      <th>sq_ft</th>\n",
       "      <th>price</th>\n",
       "      <th>year_built</th>\n",
       "      <th>tax_amount</th>\n",
       "      <th>fips</th>\n",
       "    </tr>\n",
       "  </thead>\n",
       "  <tbody>\n",
       "    <tr>\n",
       "      <th>1816338</th>\n",
       "      <td>4</td>\n",
       "      <td>3.0</td>\n",
       "      <td>2131.0</td>\n",
       "      <td>350540.0</td>\n",
       "      <td>1977</td>\n",
       "      <td>4719.83</td>\n",
       "      <td>Los Angeles County</td>\n",
       "    </tr>\n",
       "    <tr>\n",
       "      <th>1770176</th>\n",
       "      <td>3</td>\n",
       "      <td>3.0</td>\n",
       "      <td>2084.0</td>\n",
       "      <td>425101.0</td>\n",
       "      <td>1953</td>\n",
       "      <td>6397.19</td>\n",
       "      <td>Los Angeles County</td>\n",
       "    </tr>\n",
       "    <tr>\n",
       "      <th>1033606</th>\n",
       "      <td>4</td>\n",
       "      <td>3.0</td>\n",
       "      <td>2361.0</td>\n",
       "      <td>380546.0</td>\n",
       "      <td>2008</td>\n",
       "      <td>4815.34</td>\n",
       "      <td>Los Angeles County</td>\n",
       "    </tr>\n",
       "    <tr>\n",
       "      <th>2093580</th>\n",
       "      <td>5</td>\n",
       "      <td>3.0</td>\n",
       "      <td>2289.0</td>\n",
       "      <td>293831.0</td>\n",
       "      <td>1969</td>\n",
       "      <td>3559.74</td>\n",
       "      <td>Los Angeles County</td>\n",
       "    </tr>\n",
       "    <tr>\n",
       "      <th>1677414</th>\n",
       "      <td>5</td>\n",
       "      <td>3.0</td>\n",
       "      <td>2901.0</td>\n",
       "      <td>470040.0</td>\n",
       "      <td>1994</td>\n",
       "      <td>5509.28</td>\n",
       "      <td>Orange County</td>\n",
       "    </tr>\n",
       "  </tbody>\n",
       "</table>\n",
       "</div>"
      ],
      "text/plain": [
       "         bedrooms  bathrooms   sq_ft     price  year_built  tax_amount  \\\n",
       "1816338         4        3.0  2131.0  350540.0        1977     4719.83   \n",
       "1770176         3        3.0  2084.0  425101.0        1953     6397.19   \n",
       "1033606         4        3.0  2361.0  380546.0        2008     4815.34   \n",
       "2093580         5        3.0  2289.0  293831.0        1969     3559.74   \n",
       "1677414         5        3.0  2901.0  470040.0        1994     5509.28   \n",
       "\n",
       "                       fips  \n",
       "1816338  Los Angeles County  \n",
       "1770176  Los Angeles County  \n",
       "1033606  Los Angeles County  \n",
       "2093580  Los Angeles County  \n",
       "1677414       Orange County  "
      ]
     },
     "execution_count": 17,
     "metadata": {},
     "output_type": "execute_result"
    }
   ],
   "source": [
    "train.head()"
   ]
  },
  {
   "cell_type": "markdown",
   "id": "afd62c7d-5df0-4d9f-b736-a9ab71aa04db",
   "metadata": {},
   "source": [
    "## 3. Read the documentation for sklearn's QuantileTransformer. Use normal for the output_distribution and apply this scaler to your data. Visualize the result of your data scaling."
   ]
  },
  {
   "cell_type": "code",
   "execution_count": 18,
   "id": "11a1602d-7437-49a4-8d2e-f5129a4bca05",
   "metadata": {},
   "outputs": [
    {
     "data": {
      "image/png": "[encoded data removed]",
      "text/plain": [
       "<Figure size 1300x800 with 2 Axes>"
      ]
     },
     "metadata": {},
     "output_type": "display_data"
    }
   ],
   "source": [
    "qt = QuantileTransformer(n_quantiles=100, output_distribution='normal')\n",
    "train_qt = train.copy()\n",
    "train_qt[['sq_ft_qt', 'price_qt', 'tax_amount_qt']] = qt.fit_transform(train[scaled_cols])\n",
    "compare_data('price_qt', df = train_qt[train_qt.price < 2_000_000])"
   ]
  },
  {
   "cell_type": "markdown",
   "id": "7ed299d7-153a-47ad-bd87-4fce21a3697a",
   "metadata": {},
   "source": [
    "## 4. Use the QuantileTransformer, but omit the output_distribution argument. Visualize your results. What do you notice?"
   ]
  },
  {
   "cell_type": "code",
   "execution_count": 19,
   "id": "b6460645-c368-47d2-9c75-c37d99a41974",
   "metadata": {},
   "outputs": [
    {
     "data": {
      "image/png": "[encoded data removed]",
      "text/plain": [
       "<Figure size 1300x800 with 2 Axes>"
      ]
     },
     "metadata": {},
     "output_type": "display_data"
    }
   ],
   "source": [
    "qt = QuantileTransformer(n_quantiles=100)\n",
    "train_qt = train.copy()\n",
    "train_qt[['sq_ft_qt', 'price_qt', 'tax_amount_qt']] = qt.fit_transform(train[scaled_cols])\n",
    "compare_data('price_qt', df = train_qt[train_qt.price < 2_000_000])"
   ]
  },
  {
   "cell_type": "markdown",
   "id": "ae8a3b53-4dbd-4f01-8fe2-dcf3c5dc3d76",
   "metadata": {},
   "source": [
    "## 5. Based on the work you've done, choose a scaling method for your dataset. Write a function within your prepare.py that accepts as input the train, validate, and test data splits, and returns the scaled versions of each. Be sure to only learn the parameters for scaling from your training data!"
   ]
  },
  {
   "cell_type": "code",
   "execution_count": 20,
   "id": "6faca298-2d9f-49ab-9a93-518e671f3570",
   "metadata": {},
   "outputs": [
    {
     "data": {
      "text/plain": [
       "1816338    0.003887\n",
       "1770176    0.004713\n",
       "1033606    0.004219\n",
       "2093580    0.003258\n",
       "1677414    0.005212\n",
       "             ...   \n",
       "214216     0.006377\n",
       "66028      0.001660\n",
       "212054     0.000463\n",
       "1111128    0.003559\n",
       "1884462    0.006889\n",
       "Name: price, Length: 1498164, dtype: float64"
      ]
     },
     "execution_count": 20,
     "metadata": {},
     "output_type": "execute_result"
    }
   ],
   "source": [
    "zil = wg.wrangle_zillow()\n",
    "train, val, test = wg.scale_zillow(zil)\n",
    "train.price"
   ]
  },
  {
   "cell_type": "code",
   "execution_count": 21,
   "id": "d501f518-a5c2-42be-b088-4c658472f81d",
   "metadata": {},
   "outputs": [
    {
     "data": {
      "text/plain": [
       "1816338   -0.162678\n",
       "1770176   -0.051948\n",
       "1033606   -0.118116\n",
       "2093580   -0.246896\n",
       "1677414    0.014790\n",
       "             ...   \n",
       "214216     0.170909\n",
       "66028     -0.460941\n",
       "212054    -0.621206\n",
       "1111128   -0.206524\n",
       "1884462    0.239451\n",
       "Name: price, Length: 1498164, dtype: float64"
      ]
     },
     "execution_count": 21,
     "metadata": {},
     "output_type": "execute_result"
    }
   ],
   "source": [
    "zil = wg.wrangle_zillow()\n",
    "train, val, test = wg.scale_zillow(zil, method='ss')\n",
    "train.price"
   ]
  },
  {
   "cell_type": "code",
   "execution_count": 28,
   "id": "d6fbe5fb-2241-4e1d-978e-7bc1032d8006",
   "metadata": {},
   "outputs": [],
   "source": [
    "zil = wg.wrangle_zillow(True)"
   ]
  },
  {
   "cell_type": "code",
   "execution_count": 29,
   "id": "d52bad66-1b13-4252-98ca-135d0e485e3f",
   "metadata": {},
   "outputs": [],
   "source": [
    "train, val, test = wg.train_val_test(zil)"
   ]
  },
  {
   "cell_type": "code",
   "execution_count": 30,
   "id": "2a02bd55-f5c9-4b12-accb-3a6993b53d3b",
   "metadata": {},
   "outputs": [],
   "source": [
    "train, val, test = wg.scale_zillow(train=train, val=val, test=test, method='mms')"
   ]
  },
  {
   "cell_type": "code",
   "execution_count": 32,
   "id": "293d9bad-894d-4d9c-917f-136e326c76bf",
   "metadata": {},
   "outputs": [
    {
     "data": {
      "text/html": [
       "<div>\n",
       "<style scoped>\n",
       "    .dataframe tbody tr th:only-of-type {\n",
       "        vertical-align: middle;\n",
       "    }\n",
       "\n",
       "    .dataframe tbody tr th {\n",
       "        vertical-align: top;\n",
       "    }\n",
       "\n",
       "    .dataframe thead th {\n",
       "        text-align: right;\n",
       "    }\n",
       "</style>\n",
       "<table border=\"1\" class=\"dataframe\">\n",
       "  <thead>\n",
       "    <tr style=\"text-align: right;\">\n",
       "      <th></th>\n",
       "      <th>bedrooms</th>\n",
       "      <th>bathrooms</th>\n",
       "      <th>sq_ft</th>\n",
       "      <th>price</th>\n",
       "      <th>year_built</th>\n",
       "      <th>tax_amount</th>\n",
       "      <th>fips</th>\n",
       "    </tr>\n",
       "  </thead>\n",
       "  <tbody>\n",
       "    <tr>\n",
       "      <th>1932788</th>\n",
       "      <td>2</td>\n",
       "      <td>1.0</td>\n",
       "      <td>0.000921</td>\n",
       "      <td>0.003351</td>\n",
       "      <td>1954</td>\n",
       "      <td>0.003893</td>\n",
       "      <td>Los Angeles County</td>\n",
       "    </tr>\n",
       "    <tr>\n",
       "      <th>1864290</th>\n",
       "      <td>3</td>\n",
       "      <td>2.0</td>\n",
       "      <td>0.001662</td>\n",
       "      <td>0.003187</td>\n",
       "      <td>1953</td>\n",
       "      <td>0.003225</td>\n",
       "      <td>Los Angeles County</td>\n",
       "    </tr>\n",
       "    <tr>\n",
       "      <th>311696</th>\n",
       "      <td>4</td>\n",
       "      <td>2.5</td>\n",
       "      <td>0.002561</td>\n",
       "      <td>0.010806</td>\n",
       "      <td>2000</td>\n",
       "      <td>0.011150</td>\n",
       "      <td>Orange County</td>\n",
       "    </tr>\n",
       "    <tr>\n",
       "      <th>332369</th>\n",
       "      <td>2</td>\n",
       "      <td>1.0</td>\n",
       "      <td>0.001739</td>\n",
       "      <td>0.001295</td>\n",
       "      <td>1973</td>\n",
       "      <td>0.001177</td>\n",
       "      <td>Orange County</td>\n",
       "    </tr>\n",
       "    <tr>\n",
       "      <th>1174612</th>\n",
       "      <td>4</td>\n",
       "      <td>3.0</td>\n",
       "      <td>0.002257</td>\n",
       "      <td>0.007307</td>\n",
       "      <td>1955</td>\n",
       "      <td>0.007499</td>\n",
       "      <td>Los Angeles County</td>\n",
       "    </tr>\n",
       "    <tr>\n",
       "      <th>...</th>\n",
       "      <td>...</td>\n",
       "      <td>...</td>\n",
       "      <td>...</td>\n",
       "      <td>...</td>\n",
       "      <td>...</td>\n",
       "      <td>...</td>\n",
       "      <td>...</td>\n",
       "    </tr>\n",
       "    <tr>\n",
       "      <th>1258365</th>\n",
       "      <td>3</td>\n",
       "      <td>2.0</td>\n",
       "      <td>0.002033</td>\n",
       "      <td>0.017664</td>\n",
       "      <td>1960</td>\n",
       "      <td>0.014578</td>\n",
       "      <td>Orange County</td>\n",
       "    </tr>\n",
       "    <tr>\n",
       "      <th>289814</th>\n",
       "      <td>3</td>\n",
       "      <td>3.0</td>\n",
       "      <td>0.003261</td>\n",
       "      <td>0.012097</td>\n",
       "      <td>1983</td>\n",
       "      <td>0.010180</td>\n",
       "      <td>Orange County</td>\n",
       "    </tr>\n",
       "    <tr>\n",
       "      <th>31930</th>\n",
       "      <td>4</td>\n",
       "      <td>3.0</td>\n",
       "      <td>0.002711</td>\n",
       "      <td>0.009456</td>\n",
       "      <td>2006</td>\n",
       "      <td>0.011630</td>\n",
       "      <td>Orange County</td>\n",
       "    </tr>\n",
       "    <tr>\n",
       "      <th>693212</th>\n",
       "      <td>3</td>\n",
       "      <td>2.0</td>\n",
       "      <td>0.002607</td>\n",
       "      <td>0.002192</td>\n",
       "      <td>1939</td>\n",
       "      <td>0.002366</td>\n",
       "      <td>Los Angeles County</td>\n",
       "    </tr>\n",
       "    <tr>\n",
       "      <th>2143631</th>\n",
       "      <td>3</td>\n",
       "      <td>2.0</td>\n",
       "      <td>0.001681</td>\n",
       "      <td>0.001148</td>\n",
       "      <td>1940</td>\n",
       "      <td>0.001083</td>\n",
       "      <td>Los Angeles County</td>\n",
       "    </tr>\n",
       "  </tbody>\n",
       "</table>\n",
       "<p>321035 rows × 7 columns</p>\n",
       "</div>"
      ],
      "text/plain": [
       "         bedrooms  bathrooms     sq_ft     price  year_built  tax_amount  \\\n",
       "1932788         2        1.0  0.000921  0.003351        1954    0.003893   \n",
       "1864290         3        2.0  0.001662  0.003187        1953    0.003225   \n",
       "311696          4        2.5  0.002561  0.010806        2000    0.011150   \n",
       "332369          2        1.0  0.001739  0.001295        1973    0.001177   \n",
       "1174612         4        3.0  0.002257  0.007307        1955    0.007499   \n",
       "...           ...        ...       ...       ...         ...         ...   \n",
       "1258365         3        2.0  0.002033  0.017664        1960    0.014578   \n",
       "289814          3        3.0  0.003261  0.012097        1983    0.010180   \n",
       "31930           4        3.0  0.002711  0.009456        2006    0.011630   \n",
       "693212          3        2.0  0.002607  0.002192        1939    0.002366   \n",
       "2143631         3        2.0  0.001681  0.001148        1940    0.001083   \n",
       "\n",
       "                       fips  \n",
       "1932788  Los Angeles County  \n",
       "1864290  Los Angeles County  \n",
       "311696        Orange County  \n",
       "332369        Orange County  \n",
       "1174612  Los Angeles County  \n",
       "...                     ...  \n",
       "1258365       Orange County  \n",
       "289814        Orange County  \n",
       "31930         Orange County  \n",
       "693212   Los Angeles County  \n",
       "2143631  Los Angeles County  \n",
       "\n",
       "[321035 rows x 7 columns]"
      ]
     },
     "execution_count": 32,
     "metadata": {},
     "output_type": "execute_result"
    }
   ],
   "source": [
    "val"
   ]
  },
  {
   "cell_type": "code",
   "execution_count": null,
   "id": "b26f8e94-e8e8-4186-b961-d0699e60ec91",
   "metadata": {},
   "outputs": [],
   "source": []
  }
 ],
 "metadata": {
  "kernelspec": {
   "display_name": "Python 3 (ipykernel)",
   "language": "python",
   "name": "python3"
  },
  "language_info": {
   "codemirror_mode": {
    "name": "ipython",
    "version": 3
   },
   "file_extension": ".py",
   "mimetype": "text/x-python",
   "name": "python",
   "nbconvert_exporter": "python",
   "pygments_lexer": "ipython3",
   "version": "3.10.9"
  }
 },
 "nbformat": 4,
 "nbformat_minor": 5
}

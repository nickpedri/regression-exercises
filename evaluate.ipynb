{
 "cells": [
  {
   "cell_type": "markdown",
   "id": "306e2d18-1590-4bc6-a447-b3bb534a0981",
   "metadata": {},
   "source": [
    "# Evaluating Regression Models Exercises\n",
    "\n",
    "Do you work for this exercise in either a jupyter notebook named evaluate within your regression-exercises repository. By the end of this exercise you will also create a python script named evaluate, so the overall deliverables for this exercise are the python script and jupyter notebook both with the name evaluate within your regression-exercises repo."
   ]
  },
  {
   "cell_type": "markdown",
   "id": "0843fd98-dd0f-4833-8a1e-afe835c5c81d",
   "metadata": {
    "tags": []
   },
   "source": [
    "## 1. Load your zillow dataset."
   ]
  },
  {
   "cell_type": "code",
   "execution_count": 1,
   "id": "dcb88193-88fa-4f62-9d88-389813248218",
   "metadata": {},
   "outputs": [],
   "source": [
    "import numpy as np\n",
    "import pandas as pd\n",
    "import os\n",
    "\n",
    "import matplotlib.pyplot as plt\n",
    "import seaborn as sns\n",
    "\n",
    "import wrangle as wg\n",
    "\n",
    "from env import get_connection"
   ]
  },
  {
   "cell_type": "code",
   "execution_count": 2,
   "id": "4c445fe4-c308-4d68-8c35-3ce3e579e3ef",
   "metadata": {},
   "outputs": [],
   "source": [
    "zil = wg.wrangle_zillow()"
   ]
  },
  {
   "cell_type": "code",
   "execution_count": 3,
   "id": "e1e959be-e8c7-4acb-891b-fd892d420504",
   "metadata": {},
   "outputs": [
    {
     "data": {
      "text/html": [
       "<div>\n",
       "<style scoped>\n",
       "    .dataframe tbody tr th:only-of-type {\n",
       "        vertical-align: middle;\n",
       "    }\n",
       "\n",
       "    .dataframe tbody tr th {\n",
       "        vertical-align: top;\n",
       "    }\n",
       "\n",
       "    .dataframe thead th {\n",
       "        text-align: right;\n",
       "    }\n",
       "</style>\n",
       "<table border=\"1\" class=\"dataframe\">\n",
       "  <thead>\n",
       "    <tr style=\"text-align: right;\">\n",
       "      <th></th>\n",
       "      <th>bedrooms</th>\n",
       "      <th>bathrooms</th>\n",
       "      <th>sq_ft</th>\n",
       "      <th>price</th>\n",
       "      <th>year_built</th>\n",
       "      <th>tax_amount</th>\n",
       "      <th>fips</th>\n",
       "    </tr>\n",
       "  </thead>\n",
       "  <tbody>\n",
       "    <tr>\n",
       "      <th>4</th>\n",
       "      <td>4</td>\n",
       "      <td>2.0</td>\n",
       "      <td>3633.0</td>\n",
       "      <td>296425.0</td>\n",
       "      <td>2005</td>\n",
       "      <td>6941.39</td>\n",
       "      <td>6037</td>\n",
       "    </tr>\n",
       "    <tr>\n",
       "      <th>6</th>\n",
       "      <td>3</td>\n",
       "      <td>4.0</td>\n",
       "      <td>1620.0</td>\n",
       "      <td>847770.0</td>\n",
       "      <td>2011</td>\n",
       "      <td>10244.94</td>\n",
       "      <td>6037</td>\n",
       "    </tr>\n",
       "    <tr>\n",
       "      <th>7</th>\n",
       "      <td>3</td>\n",
       "      <td>2.0</td>\n",
       "      <td>2077.0</td>\n",
       "      <td>646760.0</td>\n",
       "      <td>1926</td>\n",
       "      <td>7924.68</td>\n",
       "      <td>6037</td>\n",
       "    </tr>\n",
       "  </tbody>\n",
       "</table>\n",
       "</div>"
      ],
      "text/plain": [
       "   bedrooms  bathrooms   sq_ft     price  year_built  tax_amount  fips\n",
       "4         4        2.0  3633.0  296425.0        2005     6941.39  6037\n",
       "6         3        4.0  1620.0  847770.0        2011    10244.94  6037\n",
       "7         3        2.0  2077.0  646760.0        1926     7924.68  6037"
      ]
     },
     "execution_count": 3,
     "metadata": {},
     "output_type": "execute_result"
    }
   ],
   "source": [
    "zil.head(3)"
   ]
  },
  {
   "cell_type": "markdown",
   "id": "841e2901-1130-4482-a09d-9ddfb9f030eb",
   "metadata": {},
   "source": [
    "## 2. Fit a linear regression model (ordinary least squares) and compute yhat, predictions of taxvaluedollarcnt using only calculatedfinishedsqft.\n",
    "\n",
    "Here is some sample code to get you started:\n",
    "\n",
    "from sklearn.linear_model import LinearRegression\n",
    "\n",
    "Assuming X and y are already defined\n",
    "\n",
    "model = LinearRegression().fit(X, y)\n",
    "predictions = model.predict(X)\n",
    "\n",
    "Modify and add to the code above as necessary for it to work with the zillow dataset."
   ]
  },
  {
   "cell_type": "code",
   "execution_count": 4,
   "id": "600dc3f7-549b-4d63-9822-4fbc62237646",
   "metadata": {},
   "outputs": [],
   "source": [
    "zil = zil.drop(columns=['tax_amount'])"
   ]
  },
  {
   "cell_type": "code",
   "execution_count": 5,
   "id": "8f7740a1-8562-478e-aec7-974f673a3bcb",
   "metadata": {},
   "outputs": [
    {
     "data": {
      "text/plain": [
       "Index(['bedrooms', 'bathrooms', 'sq_ft', 'price', 'year_built', 'fips'], dtype='object')"
      ]
     },
     "execution_count": 5,
     "metadata": {},
     "output_type": "execute_result"
    }
   ],
   "source": [
    "zil.columns"
   ]
  },
  {
   "cell_type": "code",
   "execution_count": 6,
   "id": "ac6bafa6-dad2-4fa0-a4c7-6c071bdd6afd",
   "metadata": {},
   "outputs": [],
   "source": [
    "train, val, test = wg.scale_zillow(zil, scaled_cols=['bedrooms', 'bathrooms', 'sq_ft', 'year_built', 'fips'], method='rs')"
   ]
  },
  {
   "cell_type": "code",
   "execution_count": 7,
   "id": "acec763b-f03a-416f-a910-b4c6f01434ee",
   "metadata": {},
   "outputs": [
    {
     "name": "stdout",
     "output_type": "stream",
     "text": [
      "(1498164, 6)\n",
      "(321035, 6)\n",
      "(321036, 6)\n"
     ]
    }
   ],
   "source": [
    "for i in [train, val, test ]:\n",
    "    print(i.shape)"
   ]
  },
  {
   "cell_type": "code",
   "execution_count": 8,
   "id": "968fa7c7-479e-489e-8b45-48fc7467271f",
   "metadata": {},
   "outputs": [],
   "source": [
    "x_train, y_train = wg.split_x_y(train, 'price')\n",
    "x_val, y_val = wg.split_x_y(val, 'price')"
   ]
  },
  {
   "cell_type": "code",
   "execution_count": 9,
   "id": "9bde6ce0-267e-4dd2-960b-1b22db06d325",
   "metadata": {},
   "outputs": [],
   "source": [
    "from sklearn.linear_model import LinearRegression\n",
    "\n",
    "# assuming X and y are already defined\n",
    "model = LinearRegression().fit(x_train, y_train)\n",
    "predictions = model.predict(x_train)\n"
   ]
  },
  {
   "cell_type": "code",
   "execution_count": 10,
   "id": "176dfb1b-4a49-4f25-8576-251e8b1e4e55",
   "metadata": {},
   "outputs": [],
   "source": [
    "results = train.copy()"
   ]
  },
  {
   "cell_type": "code",
   "execution_count": 11,
   "id": "b0806657-45d7-481f-9575-7cef3a83f19f",
   "metadata": {},
   "outputs": [
    {
     "data": {
      "text/html": [
       "<div>\n",
       "<style scoped>\n",
       "    .dataframe tbody tr th:only-of-type {\n",
       "        vertical-align: middle;\n",
       "    }\n",
       "\n",
       "    .dataframe tbody tr th {\n",
       "        vertical-align: top;\n",
       "    }\n",
       "\n",
       "    .dataframe thead th {\n",
       "        text-align: right;\n",
       "    }\n",
       "</style>\n",
       "<table border=\"1\" class=\"dataframe\">\n",
       "  <thead>\n",
       "    <tr style=\"text-align: right;\">\n",
       "      <th></th>\n",
       "      <th>bedrooms</th>\n",
       "      <th>bathrooms</th>\n",
       "      <th>sq_ft</th>\n",
       "      <th>price</th>\n",
       "      <th>year_built</th>\n",
       "      <th>fips</th>\n",
       "    </tr>\n",
       "  </thead>\n",
       "  <tbody>\n",
       "    <tr>\n",
       "      <th>1816338</th>\n",
       "      <td>1.0</td>\n",
       "      <td>1.0</td>\n",
       "      <td>0.533684</td>\n",
       "      <td>350540.0</td>\n",
       "      <td>0.703704</td>\n",
       "      <td>0.0</td>\n",
       "    </tr>\n",
       "    <tr>\n",
       "      <th>1770176</th>\n",
       "      <td>0.0</td>\n",
       "      <td>1.0</td>\n",
       "      <td>0.484211</td>\n",
       "      <td>425101.0</td>\n",
       "      <td>-0.185185</td>\n",
       "      <td>0.0</td>\n",
       "    </tr>\n",
       "    <tr>\n",
       "      <th>1033606</th>\n",
       "      <td>1.0</td>\n",
       "      <td>1.0</td>\n",
       "      <td>0.775789</td>\n",
       "      <td>380546.0</td>\n",
       "      <td>1.851852</td>\n",
       "      <td>0.0</td>\n",
       "    </tr>\n",
       "  </tbody>\n",
       "</table>\n",
       "</div>"
      ],
      "text/plain": [
       "         bedrooms  bathrooms     sq_ft     price  year_built  fips\n",
       "1816338       1.0        1.0  0.533684  350540.0    0.703704   0.0\n",
       "1770176       0.0        1.0  0.484211  425101.0   -0.185185   0.0\n",
       "1033606       1.0        1.0  0.775789  380546.0    1.851852   0.0"
      ]
     },
     "execution_count": 11,
     "metadata": {},
     "output_type": "execute_result"
    }
   ],
   "source": [
    "results.head(3)"
   ]
  },
  {
   "cell_type": "code",
   "execution_count": 12,
   "id": "645df46f-cbe6-4140-bcf4-9662ca38c2c7",
   "metadata": {},
   "outputs": [],
   "source": [
    "results = results.drop(columns=['bedrooms', 'bathrooms', 'sq_ft', 'year_built', 'fips'])"
   ]
  },
  {
   "cell_type": "code",
   "execution_count": 13,
   "id": "261c20f3-a522-47b7-bd13-779de8dd9063",
   "metadata": {},
   "outputs": [],
   "source": [
    "# Create baseline\n",
    "\n",
    "results['baseline'] = results.price.mean()"
   ]
  },
  {
   "cell_type": "code",
   "execution_count": 14,
   "id": "864a353c-6ce6-4638-b55b-a6e9bc82de31",
   "metadata": {},
   "outputs": [],
   "source": [
    "results['base_residual'] = results.baseline - results.price"
   ]
  },
  {
   "cell_type": "code",
   "execution_count": 15,
   "id": "0514e904-34f9-4ca1-bdb0-3090cca1b765",
   "metadata": {},
   "outputs": [
    {
     "data": {
      "text/html": [
       "<div>\n",
       "<style scoped>\n",
       "    .dataframe tbody tr th:only-of-type {\n",
       "        vertical-align: middle;\n",
       "    }\n",
       "\n",
       "    .dataframe tbody tr th {\n",
       "        vertical-align: top;\n",
       "    }\n",
       "\n",
       "    .dataframe thead th {\n",
       "        text-align: right;\n",
       "    }\n",
       "</style>\n",
       "<table border=\"1\" class=\"dataframe\">\n",
       "  <thead>\n",
       "    <tr style=\"text-align: right;\">\n",
       "      <th></th>\n",
       "      <th>price</th>\n",
       "      <th>baseline</th>\n",
       "      <th>base_residual</th>\n",
       "    </tr>\n",
       "  </thead>\n",
       "  <tbody>\n",
       "    <tr>\n",
       "      <th>1816338</th>\n",
       "      <td>350540.0</td>\n",
       "      <td>460080.717969</td>\n",
       "      <td>109540.717969</td>\n",
       "    </tr>\n",
       "    <tr>\n",
       "      <th>1770176</th>\n",
       "      <td>425101.0</td>\n",
       "      <td>460080.717969</td>\n",
       "      <td>34979.717969</td>\n",
       "    </tr>\n",
       "    <tr>\n",
       "      <th>1033606</th>\n",
       "      <td>380546.0</td>\n",
       "      <td>460080.717969</td>\n",
       "      <td>79534.717969</td>\n",
       "    </tr>\n",
       "  </tbody>\n",
       "</table>\n",
       "</div>"
      ],
      "text/plain": [
       "            price       baseline  base_residual\n",
       "1816338  350540.0  460080.717969  109540.717969\n",
       "1770176  425101.0  460080.717969   34979.717969\n",
       "1033606  380546.0  460080.717969   79534.717969"
      ]
     },
     "execution_count": 15,
     "metadata": {},
     "output_type": "execute_result"
    }
   ],
   "source": [
    "results.head(3)"
   ]
  },
  {
   "cell_type": "code",
   "execution_count": 16,
   "id": "7bafa901-9eaf-4dab-bb67-70cdaf35cdbf",
   "metadata": {},
   "outputs": [],
   "source": [
    "results['y_hat'] = predictions"
   ]
  },
  {
   "cell_type": "code",
   "execution_count": 17,
   "id": "19edaa9b-09a0-4155-b45f-adfd4ee4aaf6",
   "metadata": {},
   "outputs": [],
   "source": [
    "results['residual'] = results.y_hat - results.price"
   ]
  },
  {
   "cell_type": "code",
   "execution_count": 18,
   "id": "f83d5b9f-3427-4e19-99da-c5b6f22928eb",
   "metadata": {},
   "outputs": [
    {
     "data": {
      "text/html": [
       "<div>\n",
       "<style scoped>\n",
       "    .dataframe tbody tr th:only-of-type {\n",
       "        vertical-align: middle;\n",
       "    }\n",
       "\n",
       "    .dataframe tbody tr th {\n",
       "        vertical-align: top;\n",
       "    }\n",
       "\n",
       "    .dataframe thead th {\n",
       "        text-align: right;\n",
       "    }\n",
       "</style>\n",
       "<table border=\"1\" class=\"dataframe\">\n",
       "  <thead>\n",
       "    <tr style=\"text-align: right;\">\n",
       "      <th></th>\n",
       "      <th>price</th>\n",
       "      <th>baseline</th>\n",
       "      <th>base_residual</th>\n",
       "      <th>y_hat</th>\n",
       "      <th>residual</th>\n",
       "    </tr>\n",
       "  </thead>\n",
       "  <tbody>\n",
       "    <tr>\n",
       "      <th>1816338</th>\n",
       "      <td>350540.0</td>\n",
       "      <td>460080.717969</td>\n",
       "      <td>109540.717969</td>\n",
       "      <td>638585.298373</td>\n",
       "      <td>288045.298373</td>\n",
       "    </tr>\n",
       "    <tr>\n",
       "      <th>1770176</th>\n",
       "      <td>425101.0</td>\n",
       "      <td>460080.717969</td>\n",
       "      <td>34979.717969</td>\n",
       "      <td>783524.928772</td>\n",
       "      <td>358423.928772</td>\n",
       "    </tr>\n",
       "    <tr>\n",
       "      <th>1033606</th>\n",
       "      <td>380546.0</td>\n",
       "      <td>460080.717969</td>\n",
       "      <td>79534.717969</td>\n",
       "      <td>588828.676991</td>\n",
       "      <td>208282.676991</td>\n",
       "    </tr>\n",
       "    <tr>\n",
       "      <th>2093580</th>\n",
       "      <td>293831.0</td>\n",
       "      <td>460080.717969</td>\n",
       "      <td>166249.717969</td>\n",
       "      <td>587826.389213</td>\n",
       "      <td>293995.389213</td>\n",
       "    </tr>\n",
       "    <tr>\n",
       "      <th>1677414</th>\n",
       "      <td>470040.0</td>\n",
       "      <td>460080.717969</td>\n",
       "      <td>-9959.282031</td>\n",
       "      <td>597316.696196</td>\n",
       "      <td>127276.696196</td>\n",
       "    </tr>\n",
       "  </tbody>\n",
       "</table>\n",
       "</div>"
      ],
      "text/plain": [
       "            price       baseline  base_residual          y_hat       residual\n",
       "1816338  350540.0  460080.717969  109540.717969  638585.298373  288045.298373\n",
       "1770176  425101.0  460080.717969   34979.717969  783524.928772  358423.928772\n",
       "1033606  380546.0  460080.717969   79534.717969  588828.676991  208282.676991\n",
       "2093580  293831.0  460080.717969  166249.717969  587826.389213  293995.389213\n",
       "1677414  470040.0  460080.717969   -9959.282031  597316.696196  127276.696196"
      ]
     },
     "execution_count": 18,
     "metadata": {},
     "output_type": "execute_result"
    }
   ],
   "source": [
    "results.head()"
   ]
  },
  {
   "cell_type": "markdown",
   "id": "3f99fad7-e2d2-4c1a-abdb-ba7ce73905a7",
   "metadata": {},
   "source": [
    "## 3. Plot the residuals for the linear regression model that you made."
   ]
  },
  {
   "cell_type": "code",
   "execution_count": 19,
   "id": "37c3b6c4-4979-420e-bdb1-4cb2c7b46d61",
   "metadata": {},
   "outputs": [
    {
     "data": {
      "text/plain": [
       "<matplotlib.collections.LineCollection at 0x13fb84bb0>"
      ]
     },
     "execution_count": 19,
     "metadata": {},
     "output_type": "execute_result"
    },
    {
     "data": {
      "image/png": "[encoded data removed]",
      "text/plain": [
       "<Figure size 640x480 with 1 Axes>"
      ]
     },
     "metadata": {},
     "output_type": "display_data"
    }
   ],
   "source": [
    "sns.scatterplot(data = results[results.price<2_000_000], x = 'price', y = 'base_residual')\n",
    "plt.hlines(0, 0, 2_000_000, color='firebrick')"
   ]
  },
  {
   "cell_type": "code",
   "execution_count": 20,
   "id": "1587eb62-91fc-417d-9afb-56d45de5e816",
   "metadata": {},
   "outputs": [],
   "source": [
    "res = results[results.residual<10_000_000]"
   ]
  },
  {
   "cell_type": "code",
   "execution_count": 21,
   "id": "ea9a0053-09b5-4b42-8401-d563842e256b",
   "metadata": {},
   "outputs": [
    {
     "data": {
      "text/plain": [
       "1"
      ]
     },
     "execution_count": 21,
     "metadata": {},
     "output_type": "execute_result"
    }
   ],
   "source": [
    "len([results.residual<10_000_000])"
   ]
  },
  {
   "cell_type": "code",
   "execution_count": 22,
   "id": "827d2c9c-0c56-4bcd-a555-74b3f5096780",
   "metadata": {},
   "outputs": [
    {
     "data": {
      "text/plain": [
       "<matplotlib.collections.LineCollection at 0x13fb849a0>"
      ]
     },
     "execution_count": 22,
     "metadata": {},
     "output_type": "execute_result"
    },
    {
     "data": {
      "image/png": "[encoded data removed]",
      "text/plain": [
       "<Figure size 640x480 with 1 Axes>"
      ]
     },
     "metadata": {},
     "output_type": "display_data"
    }
   ],
   "source": [
    "sns.scatterplot(data = res[res.price<2_000_000], x = 'price', y = 'residual')\n",
    "plt.hlines(0, 0, 2_000_000, color='firebrick')"
   ]
  },
  {
   "cell_type": "markdown",
   "id": "8139cdc6-0958-4b41-8c10-85d7097a752f",
   "metadata": {},
   "source": [
    "## 4. Calculate the sum of squared errors, explained sum of squares, total sum of squares, mean squared error, and root mean squared error for your model."
   ]
  },
  {
   "cell_type": "code",
   "execution_count": 23,
   "id": "069e4bfb-8382-416c-8ade-ecd38be1437e",
   "metadata": {},
   "outputs": [
    {
     "data": {
      "text/html": [
       "<div>\n",
       "<style scoped>\n",
       "    .dataframe tbody tr th:only-of-type {\n",
       "        vertical-align: middle;\n",
       "    }\n",
       "\n",
       "    .dataframe tbody tr th {\n",
       "        vertical-align: top;\n",
       "    }\n",
       "\n",
       "    .dataframe thead th {\n",
       "        text-align: right;\n",
       "    }\n",
       "</style>\n",
       "<table border=\"1\" class=\"dataframe\">\n",
       "  <thead>\n",
       "    <tr style=\"text-align: right;\">\n",
       "      <th></th>\n",
       "      <th>price</th>\n",
       "      <th>baseline</th>\n",
       "      <th>base_residual</th>\n",
       "      <th>y_hat</th>\n",
       "      <th>residual</th>\n",
       "    </tr>\n",
       "  </thead>\n",
       "  <tbody>\n",
       "    <tr>\n",
       "      <th>1816338</th>\n",
       "      <td>350540.0</td>\n",
       "      <td>460080.717969</td>\n",
       "      <td>109540.717969</td>\n",
       "      <td>638585.298373</td>\n",
       "      <td>288045.298373</td>\n",
       "    </tr>\n",
       "    <tr>\n",
       "      <th>1770176</th>\n",
       "      <td>425101.0</td>\n",
       "      <td>460080.717969</td>\n",
       "      <td>34979.717969</td>\n",
       "      <td>783524.928772</td>\n",
       "      <td>358423.928772</td>\n",
       "    </tr>\n",
       "    <tr>\n",
       "      <th>1033606</th>\n",
       "      <td>380546.0</td>\n",
       "      <td>460080.717969</td>\n",
       "      <td>79534.717969</td>\n",
       "      <td>588828.676991</td>\n",
       "      <td>208282.676991</td>\n",
       "    </tr>\n",
       "  </tbody>\n",
       "</table>\n",
       "</div>"
      ],
      "text/plain": [
       "            price       baseline  base_residual          y_hat       residual\n",
       "1816338  350540.0  460080.717969  109540.717969  638585.298373  288045.298373\n",
       "1770176  425101.0  460080.717969   34979.717969  783524.928772  358423.928772\n",
       "1033606  380546.0  460080.717969   79534.717969  588828.676991  208282.676991"
      ]
     },
     "execution_count": 23,
     "metadata": {},
     "output_type": "execute_result"
    }
   ],
   "source": [
    "results.head(3)"
   ]
  },
  {
   "cell_type": "code",
   "execution_count": 24,
   "id": "361e06f5-1a31-4f4b-9000-6539ea3de3c8",
   "metadata": {},
   "outputs": [
    {
     "data": {
      "text/plain": [
       "4.744627319472977e+17"
      ]
     },
     "execution_count": 24,
     "metadata": {},
     "output_type": "execute_result"
    }
   ],
   "source": [
    "results['residual^2'] = results.residual**2\n",
    "SSE = results['residual^2'].sum()\n",
    "SSE"
   ]
  },
  {
   "cell_type": "code",
   "execution_count": 25,
   "id": "c509418f-5745-4dd4-b892-34b4c31b6914",
   "metadata": {},
   "outputs": [
    {
     "data": {
      "text/plain": [
       "2.048228965778069e+17"
      ]
     },
     "execution_count": 25,
     "metadata": {},
     "output_type": "execute_result"
    }
   ],
   "source": [
    "ESS = sum((results.y_hat - results.price.mean())**2)\n",
    "ESS"
   ]
  },
  {
   "cell_type": "code",
   "execution_count": 26,
   "id": "f7c12fa1-7b5b-4f0a-8542-21ef1b7faf63",
   "metadata": {},
   "outputs": [
    {
     "data": {
      "text/plain": [
       "6.792856285251046e+17"
      ]
     },
     "execution_count": 26,
     "metadata": {},
     "output_type": "execute_result"
    }
   ],
   "source": [
    "TSS = SSE + ESS\n",
    "TSS"
   ]
  },
  {
   "cell_type": "code",
   "execution_count": 27,
   "id": "56deadc1-6f7c-4d74-8cf1-852950d14408",
   "metadata": {},
   "outputs": [
    {
     "data": {
      "text/plain": [
       "316696124020.66644"
      ]
     },
     "execution_count": 27,
     "metadata": {},
     "output_type": "execute_result"
    }
   ],
   "source": [
    "MSE = SSE/len(results) \n",
    "MSE"
   ]
  },
  {
   "cell_type": "code",
   "execution_count": 28,
   "id": "37b2a3fd-4d72-4bf0-b021-c0eebb63cddf",
   "metadata": {},
   "outputs": [
    {
     "data": {
      "text/plain": [
       "562757.6068083544"
      ]
     },
     "execution_count": 28,
     "metadata": {},
     "output_type": "execute_result"
    }
   ],
   "source": [
    "from math import sqrt\n",
    "\n",
    "RMSE = sqrt(MSE)\n",
    "RMSE"
   ]
  },
  {
   "cell_type": "markdown",
   "id": "282251d4-6db2-4985-866e-9ac4b54e92aa",
   "metadata": {
    "tags": []
   },
   "source": [
    "## 5. Calculate the sum of squared errors, mean squared error, and root mean squared error for the baseline model (i.e. a model that always predicts the average taxvaluedollarcnt amount)."
   ]
  },
  {
   "cell_type": "code",
   "execution_count": 29,
   "id": "50bd46d9-40a8-4439-8ed9-32169acf5cb2",
   "metadata": {},
   "outputs": [
    {
     "data": {
      "text/plain": [
       "6.792856285253759e+17"
      ]
     },
     "execution_count": 29,
     "metadata": {},
     "output_type": "execute_result"
    }
   ],
   "source": [
    "results['base_residual^2'] = results.base_residual**2\n",
    "SSE_bl = results['base_residual^2'].sum()\n",
    "SSE_bl"
   ]
  },
  {
   "cell_type": "code",
   "execution_count": 30,
   "id": "e0e8b3a7-ea77-4d1e-b69b-c7305ea342b4",
   "metadata": {},
   "outputs": [
    {
     "data": {
      "text/plain": [
       "0.0"
      ]
     },
     "execution_count": 30,
     "metadata": {},
     "output_type": "execute_result"
    }
   ],
   "source": [
    "ESS_bl = sum((results.baseline - results.price.mean())**2)\n",
    "ESS_bl"
   ]
  },
  {
   "cell_type": "code",
   "execution_count": 31,
   "id": "825c3525-0d37-4bae-b627-f6350db92fa7",
   "metadata": {},
   "outputs": [
    {
     "data": {
      "text/plain": [
       "6.792856285253759e+17"
      ]
     },
     "execution_count": 31,
     "metadata": {},
     "output_type": "execute_result"
    }
   ],
   "source": [
    "TSS_bl = SSE_bl + ESS_bl\n",
    "TSS_bl"
   ]
  },
  {
   "cell_type": "code",
   "execution_count": 32,
   "id": "09814e2c-c4e7-4d81-8ca2-e925a74cda7e",
   "metadata": {},
   "outputs": [
    {
     "data": {
      "text/plain": [
       "453412062047.5301"
      ]
     },
     "execution_count": 32,
     "metadata": {},
     "output_type": "execute_result"
    }
   ],
   "source": [
    "MSE_bl = SSE_bl/len(results) \n",
    "MSE_bl"
   ]
  },
  {
   "cell_type": "code",
   "execution_count": 33,
   "id": "7247187a-4c2d-4918-99cd-78c353c4b98e",
   "metadata": {},
   "outputs": [
    {
     "data": {
      "text/plain": [
       "673358.7914682113"
      ]
     },
     "execution_count": 33,
     "metadata": {},
     "output_type": "execute_result"
    }
   ],
   "source": [
    "RMSE_bl = sqrt(MSE_bl)\n",
    "RMSE_bl"
   ]
  },
  {
   "cell_type": "markdown",
   "id": "943d881e-c340-4c85-bc5c-11ef4e514bd9",
   "metadata": {},
   "source": [
    "## 6. Write python code that compares the sum of squared errors for your model against the sum of squared errors for the baseline model and outputs whether or not your model performs better than the baseline model."
   ]
  },
  {
   "cell_type": "code",
   "execution_count": 34,
   "id": "00946629-3d7f-4eaf-b1f5-a303c81d09f6",
   "metadata": {},
   "outputs": [],
   "source": [
    "def compare_model_base(data, actual='', model='', baseline=''):\n",
    "    df = data.copy()\n",
    "    df['b_res'] = df[baseline] - df[actual] \n",
    "    df['m_res'] = df[model] - df[actual] \n",
    "    SSE_baseline = (df['b_res']**2).sum()\n",
    "    SSE = (df['m_res']**2).sum()\n",
    "    print(f'The model SSE was {SSE}.')\n",
    "    print(f'The baseline SSE was {SSE_baseline}.')\n",
    "    if SSE < SSE_baseline:\n",
    "        print('The model did better.')\n",
    "    else:\n",
    "        print('The baseline did better.')"
   ]
  },
  {
   "cell_type": "code",
   "execution_count": 35,
   "id": "f7ff0313-513a-4f11-a642-b54de4604826",
   "metadata": {},
   "outputs": [
    {
     "name": "stdout",
     "output_type": "stream",
     "text": [
      "The model SSE was 4.744627319472977e+17.\n",
      "The baseline SSE was 6.792856285253759e+17.\n",
      "The model did better.\n"
     ]
    }
   ],
   "source": [
    "compare_model_base(results, 'price', 'y_hat', 'baseline')"
   ]
  },
  {
   "cell_type": "markdown",
   "id": "47cbd683-2a6a-40fc-9077-860f7dcfe110",
   "metadata": {},
   "source": [
    "## 7. What is the amount of variance explained in your model?"
   ]
  },
  {
   "cell_type": "code",
   "execution_count": 36,
   "id": "ef362f5d-ce1b-4c0c-a093-256079e9ad6c",
   "metadata": {},
   "outputs": [
    {
     "data": {
      "text/plain": [
       "(0.30152691000180226, 0.0)"
      ]
     },
     "execution_count": 36,
     "metadata": {},
     "output_type": "execute_result"
    }
   ],
   "source": [
    "R_sqr = ESS/TSS\n",
    "R_sqr_bl = ESS_bl/TSS_bl\n",
    "\n",
    "R_sqr, R_sqr_bl"
   ]
  },
  {
   "cell_type": "markdown",
   "id": "bc8afa5b-a19d-48f1-94c1-2fdebc12f97c",
   "metadata": {},
   "source": [
    "## 8. Is your model better than the baseline model?"
   ]
  },
  {
   "cell_type": "code",
   "execution_count": 37,
   "id": "17b2fb10-5d22-4ca1-884b-51e03ec606ed",
   "metadata": {},
   "outputs": [],
   "source": [
    "# My model did better than the baseline. It had smaller residuals."
   ]
  },
  {
   "cell_type": "markdown",
   "id": "e4e8f0e4-75f2-4e6c-b8dc-67fe91533e2c",
   "metadata": {},
   "source": [
    "## 9. Create a file named evaluate.py that contains the following functions.\n",
    "\n",
    "* plot_residuals(y, yhat): creates a residual plot\n",
    "* regression_errors(y, yhat): returns the following values:\n",
    "    * sum of squared errors (SSE)\n",
    "    * explained sum of squares (ESS)\n",
    "    * total sum of squares (TSS)\n",
    "    * mean squared error (MSE)\n",
    "    * root mean squared error (RMSE)\n",
    "* baseline_mean_errors(y): computes the SSE, MSE, and RMSE for the baseline model\n",
    "* better_than_baseline(y, yhat): returns true if your model performs better than the baseline, otherwise false"
   ]
  },
  {
   "cell_type": "code",
   "execution_count": 38,
   "id": "c51cfb38-60ec-4ebb-868d-bcd10b59cb9c",
   "metadata": {},
   "outputs": [
    {
     "data": {
      "text/html": [
       "<div>\n",
       "<style scoped>\n",
       "    .dataframe tbody tr th:only-of-type {\n",
       "        vertical-align: middle;\n",
       "    }\n",
       "\n",
       "    .dataframe tbody tr th {\n",
       "        vertical-align: top;\n",
       "    }\n",
       "\n",
       "    .dataframe thead th {\n",
       "        text-align: right;\n",
       "    }\n",
       "</style>\n",
       "<table border=\"1\" class=\"dataframe\">\n",
       "  <thead>\n",
       "    <tr style=\"text-align: right;\">\n",
       "      <th></th>\n",
       "      <th>price</th>\n",
       "      <th>baseline</th>\n",
       "      <th>base_residual</th>\n",
       "      <th>y_hat</th>\n",
       "      <th>residual</th>\n",
       "      <th>residual^2</th>\n",
       "      <th>base_residual^2</th>\n",
       "    </tr>\n",
       "  </thead>\n",
       "  <tbody>\n",
       "    <tr>\n",
       "      <th>1816338</th>\n",
       "      <td>350540.0</td>\n",
       "      <td>460080.717969</td>\n",
       "      <td>109540.717969</td>\n",
       "      <td>638585.298373</td>\n",
       "      <td>288045.298373</td>\n",
       "      <td>8.297009e+10</td>\n",
       "      <td>1.199917e+10</td>\n",
       "    </tr>\n",
       "    <tr>\n",
       "      <th>1770176</th>\n",
       "      <td>425101.0</td>\n",
       "      <td>460080.717969</td>\n",
       "      <td>34979.717969</td>\n",
       "      <td>783524.928772</td>\n",
       "      <td>358423.928772</td>\n",
       "      <td>1.284677e+11</td>\n",
       "      <td>1.223581e+09</td>\n",
       "    </tr>\n",
       "    <tr>\n",
       "      <th>1033606</th>\n",
       "      <td>380546.0</td>\n",
       "      <td>460080.717969</td>\n",
       "      <td>79534.717969</td>\n",
       "      <td>588828.676991</td>\n",
       "      <td>208282.676991</td>\n",
       "      <td>4.338167e+10</td>\n",
       "      <td>6.325771e+09</td>\n",
       "    </tr>\n",
       "    <tr>\n",
       "      <th>2093580</th>\n",
       "      <td>293831.0</td>\n",
       "      <td>460080.717969</td>\n",
       "      <td>166249.717969</td>\n",
       "      <td>587826.389213</td>\n",
       "      <td>293995.389213</td>\n",
       "      <td>8.643329e+10</td>\n",
       "      <td>2.763897e+10</td>\n",
       "    </tr>\n",
       "    <tr>\n",
       "      <th>1677414</th>\n",
       "      <td>470040.0</td>\n",
       "      <td>460080.717969</td>\n",
       "      <td>-9959.282031</td>\n",
       "      <td>597316.696196</td>\n",
       "      <td>127276.696196</td>\n",
       "      <td>1.619936e+10</td>\n",
       "      <td>9.918730e+07</td>\n",
       "    </tr>\n",
       "  </tbody>\n",
       "</table>\n",
       "</div>"
      ],
      "text/plain": [
       "            price       baseline  base_residual          y_hat       residual  \\\n",
       "1816338  350540.0  460080.717969  109540.717969  638585.298373  288045.298373   \n",
       "1770176  425101.0  460080.717969   34979.717969  783524.928772  358423.928772   \n",
       "1033606  380546.0  460080.717969   79534.717969  588828.676991  208282.676991   \n",
       "2093580  293831.0  460080.717969  166249.717969  587826.389213  293995.389213   \n",
       "1677414  470040.0  460080.717969   -9959.282031  597316.696196  127276.696196   \n",
       "\n",
       "           residual^2  base_residual^2  \n",
       "1816338  8.297009e+10     1.199917e+10  \n",
       "1770176  1.284677e+11     1.223581e+09  \n",
       "1033606  4.338167e+10     6.325771e+09  \n",
       "2093580  8.643329e+10     2.763897e+10  \n",
       "1677414  1.619936e+10     9.918730e+07  "
      ]
     },
     "execution_count": 38,
     "metadata": {},
     "output_type": "execute_result"
    }
   ],
   "source": [
    "results.head(5)"
   ]
  },
  {
   "cell_type": "code",
   "execution_count": 39,
   "id": "6a5039ab-3c5f-4607-8d7c-27f61d52ca93",
   "metadata": {},
   "outputs": [
    {
     "data": {
      "image/png": "[encoded data removed]",
      "text/plain": [
       "<Figure size 640x480 with 1 Axes>"
      ]
     },
     "metadata": {},
     "output_type": "display_data"
    }
   ],
   "source": [
    "import evaluate as ev\n",
    "\n",
    "ev.plot_residuals(results, 'price', 'y_hat',85_000_000)"
   ]
  },
  {
   "cell_type": "code",
   "execution_count": 40,
   "id": "3663c86b-7ab3-4d22-a52a-9e013957f7f1",
   "metadata": {},
   "outputs": [],
   "source": [
    "SSE, ESS, TSS, MSE, RMSE = ev.regression_errors(results, 'price', 'y_hat')"
   ]
  },
  {
   "cell_type": "code",
   "execution_count": 41,
   "id": "224e6754-d8a5-4a5f-9f8f-30530591c299",
   "metadata": {},
   "outputs": [
    {
     "data": {
      "text/plain": [
       "(4.744627319472977e+17,\n",
       " 2.048228965778069e+17,\n",
       " 6.792856285251046e+17,\n",
       " 316696124020.66644,\n",
       " 562757.6068083544)"
      ]
     },
     "execution_count": 41,
     "metadata": {},
     "output_type": "execute_result"
    }
   ],
   "source": [
    "SSE, ESS, TSS, MSE, RMSE"
   ]
  },
  {
   "cell_type": "code",
   "execution_count": 43,
   "id": "be596af1-39f3-4db9-b9dc-7e8f16979928",
   "metadata": {},
   "outputs": [
    {
     "data": {
      "text/plain": [
       "(6.792856285253759e+17, 453412062047.5301, 673358.7914682113)"
      ]
     },
     "execution_count": 43,
     "metadata": {},
     "output_type": "execute_result"
    }
   ],
   "source": [
    "SSE, MSE, RMSE = ev.baseline(results, 'price')\n",
    "SSE, MSE, RMSE"
   ]
  },
  {
   "cell_type": "code",
   "execution_count": null,
   "id": "ee74e91a-7969-4f8b-a74c-9d5d278ebf53",
   "metadata": {},
   "outputs": [],
   "source": []
  }
 ],
 "metadata": {
  "kernelspec": {
   "display_name": "Python 3 (ipykernel)",
   "language": "python",
   "name": "python3"
  },
  "language_info": {
   "codemirror_mode": {
    "name": "ipython",
    "version": 3
   },
   "file_extension": ".py",
   "mimetype": "text/x-python",
   "name": "python",
   "nbconvert_exporter": "python",
   "pygments_lexer": "ipython3",
   "version": "3.10.9"
  }
 },
 "nbformat": 4,
 "nbformat_minor": 5
}

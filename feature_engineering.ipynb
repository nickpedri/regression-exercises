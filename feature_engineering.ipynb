{
 "cells": [
  {
   "cell_type": "markdown",
   "id": "43a2dcf2-4a5b-4b39-b240-3838d0a7a550",
   "metadata": {},
   "source": [
    "# Feature Engineering Exercises\n",
    "\n",
    "Do your work for this exercise in a jupyter notebook named feature_engineering within the regression-exercises repo. Add, commit, and push your work."
   ]
  },
  {
   "cell_type": "code",
   "execution_count": 59,
   "id": "d2c83a68-53e0-44b0-9399-474e61764e9e",
   "metadata": {},
   "outputs": [],
   "source": [
    "import pandas as pd\n",
    "import numpy as np\n",
    "\n",
    "import matplotlib.pyplot as plt\n",
    "import seaborn as sns\n",
    "\n",
    "from scipy import stats\n",
    "\n",
    "from pydataset import data\n",
    "from sklearn.preprocessing import MinMaxScaler\n",
    "from sklearn.feature_selection import SelectKBest, f_regression, RFE, mutual_info_regression\n",
    "from sklearn.linear_model import LinearRegression\n",
    "\n",
    "import wrangle as wg"
   ]
  },
  {
   "cell_type": "markdown",
   "id": "a275ea19-c7ce-4b47-9a04-6d3f0e83c25d",
   "metadata": {},
   "source": [
    "## 1. Load the tips dataset.\n",
    "\n",
    "    a. Create a column named price_per_person. This should be the total bill divided by the party size.\n",
    "    \n",
    "    b. Before using any of the methods discussed in the lesson, which features do you think would be most important for predicting the tip amount?\n",
    "    \n",
    "    c. Use Select K Best to select the top 2 features for predicting tip amount. What are they?\n",
    "    \n",
    "    d. Use Recursive Feature Elimination to select the top 2 features for tip amount. What are they?\n",
    "    \n",
    "    e. Why do you think Select K Best and Recursive Feature Elimination might give different answers for the top features? Does this change as you change the number of features you are selecting?"
   ]
  },
  {
   "cell_type": "code",
   "execution_count": 7,
   "id": "9d94555a-759d-44ea-ac84-ff4d8dcac1d9",
   "metadata": {},
   "outputs": [
    {
     "data": {
      "text/html": [
       "<div>\n",
       "<style scoped>\n",
       "    .dataframe tbody tr th:only-of-type {\n",
       "        vertical-align: middle;\n",
       "    }\n",
       "\n",
       "    .dataframe tbody tr th {\n",
       "        vertical-align: top;\n",
       "    }\n",
       "\n",
       "    .dataframe thead th {\n",
       "        text-align: right;\n",
       "    }\n",
       "</style>\n",
       "<table border=\"1\" class=\"dataframe\">\n",
       "  <thead>\n",
       "    <tr style=\"text-align: right;\">\n",
       "      <th></th>\n",
       "      <th>total_bill</th>\n",
       "      <th>tip</th>\n",
       "      <th>sex</th>\n",
       "      <th>smoker</th>\n",
       "      <th>day</th>\n",
       "      <th>time</th>\n",
       "      <th>size</th>\n",
       "    </tr>\n",
       "  </thead>\n",
       "  <tbody>\n",
       "    <tr>\n",
       "      <th>1</th>\n",
       "      <td>16.99</td>\n",
       "      <td>1.01</td>\n",
       "      <td>Female</td>\n",
       "      <td>No</td>\n",
       "      <td>Sun</td>\n",
       "      <td>Dinner</td>\n",
       "      <td>2</td>\n",
       "    </tr>\n",
       "    <tr>\n",
       "      <th>2</th>\n",
       "      <td>10.34</td>\n",
       "      <td>1.66</td>\n",
       "      <td>Male</td>\n",
       "      <td>No</td>\n",
       "      <td>Sun</td>\n",
       "      <td>Dinner</td>\n",
       "      <td>3</td>\n",
       "    </tr>\n",
       "    <tr>\n",
       "      <th>3</th>\n",
       "      <td>21.01</td>\n",
       "      <td>3.50</td>\n",
       "      <td>Male</td>\n",
       "      <td>No</td>\n",
       "      <td>Sun</td>\n",
       "      <td>Dinner</td>\n",
       "      <td>3</td>\n",
       "    </tr>\n",
       "    <tr>\n",
       "      <th>4</th>\n",
       "      <td>23.68</td>\n",
       "      <td>3.31</td>\n",
       "      <td>Male</td>\n",
       "      <td>No</td>\n",
       "      <td>Sun</td>\n",
       "      <td>Dinner</td>\n",
       "      <td>2</td>\n",
       "    </tr>\n",
       "    <tr>\n",
       "      <th>5</th>\n",
       "      <td>24.59</td>\n",
       "      <td>3.61</td>\n",
       "      <td>Female</td>\n",
       "      <td>No</td>\n",
       "      <td>Sun</td>\n",
       "      <td>Dinner</td>\n",
       "      <td>4</td>\n",
       "    </tr>\n",
       "  </tbody>\n",
       "</table>\n",
       "</div>"
      ],
      "text/plain": [
       "   total_bill   tip     sex smoker  day    time  size\n",
       "1       16.99  1.01  Female     No  Sun  Dinner     2\n",
       "2       10.34  1.66    Male     No  Sun  Dinner     3\n",
       "3       21.01  3.50    Male     No  Sun  Dinner     3\n",
       "4       23.68  3.31    Male     No  Sun  Dinner     2\n",
       "5       24.59  3.61  Female     No  Sun  Dinner     4"
      ]
     },
     "execution_count": 7,
     "metadata": {},
     "output_type": "execute_result"
    }
   ],
   "source": [
    "df = data('tips')\n",
    "df.head()"
   ]
  },
  {
   "cell_type": "code",
   "execution_count": 14,
   "id": "f5abd726-9b8a-4f04-b444-0194df3c8317",
   "metadata": {},
   "outputs": [
    {
     "data": {
      "text/html": [
       "<div>\n",
       "<style scoped>\n",
       "    .dataframe tbody tr th:only-of-type {\n",
       "        vertical-align: middle;\n",
       "    }\n",
       "\n",
       "    .dataframe tbody tr th {\n",
       "        vertical-align: top;\n",
       "    }\n",
       "\n",
       "    .dataframe thead th {\n",
       "        text-align: right;\n",
       "    }\n",
       "</style>\n",
       "<table border=\"1\" class=\"dataframe\">\n",
       "  <thead>\n",
       "    <tr style=\"text-align: right;\">\n",
       "      <th></th>\n",
       "      <th>total_bill</th>\n",
       "      <th>tip</th>\n",
       "      <th>sex</th>\n",
       "      <th>smoker</th>\n",
       "      <th>day</th>\n",
       "      <th>time</th>\n",
       "      <th>size</th>\n",
       "      <th>price_per_person</th>\n",
       "    </tr>\n",
       "  </thead>\n",
       "  <tbody>\n",
       "    <tr>\n",
       "      <th>1</th>\n",
       "      <td>16.99</td>\n",
       "      <td>1.01</td>\n",
       "      <td>Female</td>\n",
       "      <td>No</td>\n",
       "      <td>Sun</td>\n",
       "      <td>Dinner</td>\n",
       "      <td>2</td>\n",
       "      <td>8.495000</td>\n",
       "    </tr>\n",
       "    <tr>\n",
       "      <th>2</th>\n",
       "      <td>10.34</td>\n",
       "      <td>1.66</td>\n",
       "      <td>Male</td>\n",
       "      <td>No</td>\n",
       "      <td>Sun</td>\n",
       "      <td>Dinner</td>\n",
       "      <td>3</td>\n",
       "      <td>3.446667</td>\n",
       "    </tr>\n",
       "    <tr>\n",
       "      <th>3</th>\n",
       "      <td>21.01</td>\n",
       "      <td>3.50</td>\n",
       "      <td>Male</td>\n",
       "      <td>No</td>\n",
       "      <td>Sun</td>\n",
       "      <td>Dinner</td>\n",
       "      <td>3</td>\n",
       "      <td>7.003333</td>\n",
       "    </tr>\n",
       "    <tr>\n",
       "      <th>4</th>\n",
       "      <td>23.68</td>\n",
       "      <td>3.31</td>\n",
       "      <td>Male</td>\n",
       "      <td>No</td>\n",
       "      <td>Sun</td>\n",
       "      <td>Dinner</td>\n",
       "      <td>2</td>\n",
       "      <td>11.840000</td>\n",
       "    </tr>\n",
       "    <tr>\n",
       "      <th>5</th>\n",
       "      <td>24.59</td>\n",
       "      <td>3.61</td>\n",
       "      <td>Female</td>\n",
       "      <td>No</td>\n",
       "      <td>Sun</td>\n",
       "      <td>Dinner</td>\n",
       "      <td>4</td>\n",
       "      <td>6.147500</td>\n",
       "    </tr>\n",
       "  </tbody>\n",
       "</table>\n",
       "</div>"
      ],
      "text/plain": [
       "   total_bill   tip     sex smoker  day    time  size  price_per_person\n",
       "1       16.99  1.01  Female     No  Sun  Dinner     2          8.495000\n",
       "2       10.34  1.66    Male     No  Sun  Dinner     3          3.446667\n",
       "3       21.01  3.50    Male     No  Sun  Dinner     3          7.003333\n",
       "4       23.68  3.31    Male     No  Sun  Dinner     2         11.840000\n",
       "5       24.59  3.61  Female     No  Sun  Dinner     4          6.147500"
      ]
     },
     "execution_count": 14,
     "metadata": {},
     "output_type": "execute_result"
    }
   ],
   "source": [
    "df['price_per_person'] = df.total_bill/df['size']\n",
    "df.head()"
   ]
  },
  {
   "cell_type": "code",
   "execution_count": null,
   "id": "a41ac536-729a-4562-8d5b-6ca8b3de34fd",
   "metadata": {},
   "outputs": [],
   "source": [
    "#b. I think the most important feature will be total_bill and then size."
   ]
  },
  {
   "cell_type": "code",
   "execution_count": 17,
   "id": "96c2d6a1-80ce-4dc2-a4d4-6a73aae085e2",
   "metadata": {},
   "outputs": [],
   "source": [
    "#c. Use Select K Best to select the top 2 features for predicting tip amount. What are they?\n",
    "\n",
    "train, val, test = wg.train_val_test(df)"
   ]
  },
  {
   "cell_type": "code",
   "execution_count": 26,
   "id": "b873fc2a-dee0-4c12-b15f-a6f86b04d632",
   "metadata": {},
   "outputs": [],
   "source": [
    "to_scale = ['total_bill', 'size', 'price_per_person']"
   ]
  },
  {
   "cell_type": "code",
   "execution_count": 20,
   "id": "d14c327e-9738-4f8a-864a-b3c3dc882e35",
   "metadata": {},
   "outputs": [
    {
     "data": {
      "text/plain": [
       "Index(['total_bill', 'tip', 'sex', 'smoker', 'day', 'time', 'size',\n",
       "       'price_per_person'],\n",
       "      dtype='object')"
      ]
     },
     "execution_count": 20,
     "metadata": {},
     "output_type": "execute_result"
    }
   ],
   "source": [
    "df.columns"
   ]
  },
  {
   "cell_type": "code",
   "execution_count": 18,
   "id": "09e9057d-98d4-4a71-b67d-687ded1a014d",
   "metadata": {},
   "outputs": [
    {
     "data": {
      "text/html": [
       "<div>\n",
       "<style scoped>\n",
       "    .dataframe tbody tr th:only-of-type {\n",
       "        vertical-align: middle;\n",
       "    }\n",
       "\n",
       "    .dataframe tbody tr th {\n",
       "        vertical-align: top;\n",
       "    }\n",
       "\n",
       "    .dataframe thead th {\n",
       "        text-align: right;\n",
       "    }\n",
       "</style>\n",
       "<table border=\"1\" class=\"dataframe\">\n",
       "  <thead>\n",
       "    <tr style=\"text-align: right;\">\n",
       "      <th></th>\n",
       "      <th>total_bill</th>\n",
       "      <th>tip</th>\n",
       "      <th>sex</th>\n",
       "      <th>smoker</th>\n",
       "      <th>day</th>\n",
       "      <th>time</th>\n",
       "      <th>size</th>\n",
       "      <th>price_per_person</th>\n",
       "    </tr>\n",
       "  </thead>\n",
       "  <tbody>\n",
       "    <tr>\n",
       "      <th>190</th>\n",
       "      <td>23.10</td>\n",
       "      <td>4.0</td>\n",
       "      <td>Male</td>\n",
       "      <td>Yes</td>\n",
       "      <td>Sun</td>\n",
       "      <td>Dinner</td>\n",
       "      <td>3</td>\n",
       "      <td>7.700</td>\n",
       "    </tr>\n",
       "    <tr>\n",
       "      <th>146</th>\n",
       "      <td>8.35</td>\n",
       "      <td>1.5</td>\n",
       "      <td>Female</td>\n",
       "      <td>No</td>\n",
       "      <td>Thur</td>\n",
       "      <td>Lunch</td>\n",
       "      <td>2</td>\n",
       "      <td>4.175</td>\n",
       "    </tr>\n",
       "    <tr>\n",
       "      <th>75</th>\n",
       "      <td>14.73</td>\n",
       "      <td>2.2</td>\n",
       "      <td>Female</td>\n",
       "      <td>No</td>\n",
       "      <td>Sat</td>\n",
       "      <td>Dinner</td>\n",
       "      <td>2</td>\n",
       "      <td>7.365</td>\n",
       "    </tr>\n",
       "    <tr>\n",
       "      <th>235</th>\n",
       "      <td>15.53</td>\n",
       "      <td>3.0</td>\n",
       "      <td>Male</td>\n",
       "      <td>Yes</td>\n",
       "      <td>Sat</td>\n",
       "      <td>Dinner</td>\n",
       "      <td>2</td>\n",
       "      <td>7.765</td>\n",
       "    </tr>\n",
       "    <tr>\n",
       "      <th>199</th>\n",
       "      <td>13.00</td>\n",
       "      <td>2.0</td>\n",
       "      <td>Female</td>\n",
       "      <td>Yes</td>\n",
       "      <td>Thur</td>\n",
       "      <td>Lunch</td>\n",
       "      <td>2</td>\n",
       "      <td>6.500</td>\n",
       "    </tr>\n",
       "  </tbody>\n",
       "</table>\n",
       "</div>"
      ],
      "text/plain": [
       "     total_bill  tip     sex smoker   day    time  size  price_per_person\n",
       "190       23.10  4.0    Male    Yes   Sun  Dinner     3             7.700\n",
       "146        8.35  1.5  Female     No  Thur   Lunch     2             4.175\n",
       "75        14.73  2.2  Female     No   Sat  Dinner     2             7.365\n",
       "235       15.53  3.0    Male    Yes   Sat  Dinner     2             7.765\n",
       "199       13.00  2.0  Female    Yes  Thur   Lunch     2             6.500"
      ]
     },
     "execution_count": 18,
     "metadata": {},
     "output_type": "execute_result"
    }
   ],
   "source": [
    "train.head()"
   ]
  },
  {
   "cell_type": "code",
   "execution_count": 27,
   "id": "ca10c82a-bec8-4d44-91b7-9b7a5a3f462e",
   "metadata": {},
   "outputs": [],
   "source": [
    "train, val, test = wg.scale(df, scaled_cols=to_scale)"
   ]
  },
  {
   "cell_type": "code",
   "execution_count": 30,
   "id": "00881bca-48b6-4df8-abc2-be52ae047cd5",
   "metadata": {},
   "outputs": [
    {
     "data": {
      "text/plain": [
       "Index(['sex', 'smoker', 'day', 'time'], dtype='object')"
      ]
     },
     "execution_count": 30,
     "metadata": {},
     "output_type": "execute_result"
    }
   ],
   "source": [
    "train.select_dtypes(object).columns"
   ]
  },
  {
   "cell_type": "code",
   "execution_count": 28,
   "id": "283d626c-b95a-4da9-a403-f1b1338df32c",
   "metadata": {},
   "outputs": [
    {
     "data": {
      "text/html": [
       "<div>\n",
       "<style scoped>\n",
       "    .dataframe tbody tr th:only-of-type {\n",
       "        vertical-align: middle;\n",
       "    }\n",
       "\n",
       "    .dataframe tbody tr th {\n",
       "        vertical-align: top;\n",
       "    }\n",
       "\n",
       "    .dataframe thead th {\n",
       "        text-align: right;\n",
       "    }\n",
       "</style>\n",
       "<table border=\"1\" class=\"dataframe\">\n",
       "  <thead>\n",
       "    <tr style=\"text-align: right;\">\n",
       "      <th></th>\n",
       "      <th>total_bill</th>\n",
       "      <th>tip</th>\n",
       "      <th>sex</th>\n",
       "      <th>smoker</th>\n",
       "      <th>day</th>\n",
       "      <th>time</th>\n",
       "      <th>size</th>\n",
       "      <th>price_per_person</th>\n",
       "    </tr>\n",
       "  </thead>\n",
       "  <tbody>\n",
       "    <tr>\n",
       "      <th>190</th>\n",
       "      <td>0.419564</td>\n",
       "      <td>4.0</td>\n",
       "      <td>Male</td>\n",
       "      <td>Yes</td>\n",
       "      <td>Sun</td>\n",
       "      <td>Dinner</td>\n",
       "      <td>0.4</td>\n",
       "      <td>0.277299</td>\n",
       "    </tr>\n",
       "    <tr>\n",
       "      <th>146</th>\n",
       "      <td>0.110599</td>\n",
       "      <td>1.5</td>\n",
       "      <td>Female</td>\n",
       "      <td>No</td>\n",
       "      <td>Thur</td>\n",
       "      <td>Lunch</td>\n",
       "      <td>0.2</td>\n",
       "      <td>0.074713</td>\n",
       "    </tr>\n",
       "    <tr>\n",
       "      <th>75</th>\n",
       "      <td>0.244240</td>\n",
       "      <td>2.2</td>\n",
       "      <td>Female</td>\n",
       "      <td>No</td>\n",
       "      <td>Sat</td>\n",
       "      <td>Dinner</td>\n",
       "      <td>0.2</td>\n",
       "      <td>0.258046</td>\n",
       "    </tr>\n",
       "    <tr>\n",
       "      <th>235</th>\n",
       "      <td>0.260997</td>\n",
       "      <td>3.0</td>\n",
       "      <td>Male</td>\n",
       "      <td>Yes</td>\n",
       "      <td>Sat</td>\n",
       "      <td>Dinner</td>\n",
       "      <td>0.2</td>\n",
       "      <td>0.281034</td>\n",
       "    </tr>\n",
       "    <tr>\n",
       "      <th>199</th>\n",
       "      <td>0.208002</td>\n",
       "      <td>2.0</td>\n",
       "      <td>Female</td>\n",
       "      <td>Yes</td>\n",
       "      <td>Thur</td>\n",
       "      <td>Lunch</td>\n",
       "      <td>0.2</td>\n",
       "      <td>0.208333</td>\n",
       "    </tr>\n",
       "  </tbody>\n",
       "</table>\n",
       "</div>"
      ],
      "text/plain": [
       "     total_bill  tip     sex smoker   day    time  size  price_per_person\n",
       "190    0.419564  4.0    Male    Yes   Sun  Dinner   0.4          0.277299\n",
       "146    0.110599  1.5  Female     No  Thur   Lunch   0.2          0.074713\n",
       "75     0.244240  2.2  Female     No   Sat  Dinner   0.2          0.258046\n",
       "235    0.260997  3.0    Male    Yes   Sat  Dinner   0.2          0.281034\n",
       "199    0.208002  2.0  Female    Yes  Thur   Lunch   0.2          0.208333"
      ]
     },
     "execution_count": 28,
     "metadata": {},
     "output_type": "execute_result"
    }
   ],
   "source": [
    "train.head()"
   ]
  },
  {
   "cell_type": "code",
   "execution_count": 37,
   "id": "863a98df-4a19-4797-816f-822af3fd3491",
   "metadata": {},
   "outputs": [
    {
     "data": {
      "text/plain": [
       "total_bill          229\n",
       "tip                 123\n",
       "sex                   2\n",
       "smoker                2\n",
       "day                   4\n",
       "time                  2\n",
       "size                  6\n",
       "price_per_person    235\n",
       "dtype: int64"
      ]
     },
     "execution_count": 37,
     "metadata": {},
     "output_type": "execute_result"
    }
   ],
   "source": [
    "df.nunique()"
   ]
  },
  {
   "cell_type": "code",
   "execution_count": 38,
   "id": "d8d1ad80-f8ad-43bc-8730-e540e5499614",
   "metadata": {},
   "outputs": [],
   "source": [
    "train = pd.get_dummies(train, columns=['sex', 'smoker', 'time'], drop_first=True)"
   ]
  },
  {
   "cell_type": "code",
   "execution_count": 39,
   "id": "f51ba78e-e70f-4a49-834b-6d6009e67759",
   "metadata": {},
   "outputs": [
    {
     "data": {
      "text/html": [
       "<div>\n",
       "<style scoped>\n",
       "    .dataframe tbody tr th:only-of-type {\n",
       "        vertical-align: middle;\n",
       "    }\n",
       "\n",
       "    .dataframe tbody tr th {\n",
       "        vertical-align: top;\n",
       "    }\n",
       "\n",
       "    .dataframe thead th {\n",
       "        text-align: right;\n",
       "    }\n",
       "</style>\n",
       "<table border=\"1\" class=\"dataframe\">\n",
       "  <thead>\n",
       "    <tr style=\"text-align: right;\">\n",
       "      <th></th>\n",
       "      <th>total_bill</th>\n",
       "      <th>tip</th>\n",
       "      <th>day</th>\n",
       "      <th>size</th>\n",
       "      <th>price_per_person</th>\n",
       "      <th>sex_Male</th>\n",
       "      <th>smoker_Yes</th>\n",
       "      <th>time_Lunch</th>\n",
       "    </tr>\n",
       "  </thead>\n",
       "  <tbody>\n",
       "    <tr>\n",
       "      <th>190</th>\n",
       "      <td>0.419564</td>\n",
       "      <td>4.0</td>\n",
       "      <td>Sun</td>\n",
       "      <td>0.4</td>\n",
       "      <td>0.277299</td>\n",
       "      <td>1</td>\n",
       "      <td>1</td>\n",
       "      <td>0</td>\n",
       "    </tr>\n",
       "    <tr>\n",
       "      <th>146</th>\n",
       "      <td>0.110599</td>\n",
       "      <td>1.5</td>\n",
       "      <td>Thur</td>\n",
       "      <td>0.2</td>\n",
       "      <td>0.074713</td>\n",
       "      <td>0</td>\n",
       "      <td>0</td>\n",
       "      <td>1</td>\n",
       "    </tr>\n",
       "    <tr>\n",
       "      <th>75</th>\n",
       "      <td>0.244240</td>\n",
       "      <td>2.2</td>\n",
       "      <td>Sat</td>\n",
       "      <td>0.2</td>\n",
       "      <td>0.258046</td>\n",
       "      <td>0</td>\n",
       "      <td>0</td>\n",
       "      <td>0</td>\n",
       "    </tr>\n",
       "    <tr>\n",
       "      <th>235</th>\n",
       "      <td>0.260997</td>\n",
       "      <td>3.0</td>\n",
       "      <td>Sat</td>\n",
       "      <td>0.2</td>\n",
       "      <td>0.281034</td>\n",
       "      <td>1</td>\n",
       "      <td>1</td>\n",
       "      <td>0</td>\n",
       "    </tr>\n",
       "    <tr>\n",
       "      <th>199</th>\n",
       "      <td>0.208002</td>\n",
       "      <td>2.0</td>\n",
       "      <td>Thur</td>\n",
       "      <td>0.2</td>\n",
       "      <td>0.208333</td>\n",
       "      <td>0</td>\n",
       "      <td>1</td>\n",
       "      <td>1</td>\n",
       "    </tr>\n",
       "  </tbody>\n",
       "</table>\n",
       "</div>"
      ],
      "text/plain": [
       "     total_bill  tip   day  size  price_per_person  sex_Male  smoker_Yes  \\\n",
       "190    0.419564  4.0   Sun   0.4          0.277299         1           1   \n",
       "146    0.110599  1.5  Thur   0.2          0.074713         0           0   \n",
       "75     0.244240  2.2   Sat   0.2          0.258046         0           0   \n",
       "235    0.260997  3.0   Sat   0.2          0.281034         1           1   \n",
       "199    0.208002  2.0  Thur   0.2          0.208333         0           1   \n",
       "\n",
       "     time_Lunch  \n",
       "190           0  \n",
       "146           1  \n",
       "75            0  \n",
       "235           0  \n",
       "199           1  "
      ]
     },
     "execution_count": 39,
     "metadata": {},
     "output_type": "execute_result"
    }
   ],
   "source": [
    "train.head()"
   ]
  },
  {
   "cell_type": "code",
   "execution_count": 40,
   "id": "1df9eaad-eb1c-4d38-8eb3-36ba575fa0b6",
   "metadata": {},
   "outputs": [],
   "source": [
    "train = pd.get_dummies(train, columns=['day'], drop_first=False)"
   ]
  },
  {
   "cell_type": "code",
   "execution_count": 41,
   "id": "3bbd1067-733d-4260-b958-76db5431df84",
   "metadata": {},
   "outputs": [
    {
     "data": {
      "text/html": [
       "<div>\n",
       "<style scoped>\n",
       "    .dataframe tbody tr th:only-of-type {\n",
       "        vertical-align: middle;\n",
       "    }\n",
       "\n",
       "    .dataframe tbody tr th {\n",
       "        vertical-align: top;\n",
       "    }\n",
       "\n",
       "    .dataframe thead th {\n",
       "        text-align: right;\n",
       "    }\n",
       "</style>\n",
       "<table border=\"1\" class=\"dataframe\">\n",
       "  <thead>\n",
       "    <tr style=\"text-align: right;\">\n",
       "      <th></th>\n",
       "      <th>total_bill</th>\n",
       "      <th>tip</th>\n",
       "      <th>size</th>\n",
       "      <th>price_per_person</th>\n",
       "      <th>sex_Male</th>\n",
       "      <th>smoker_Yes</th>\n",
       "      <th>time_Lunch</th>\n",
       "      <th>day_Fri</th>\n",
       "      <th>day_Sat</th>\n",
       "      <th>day_Sun</th>\n",
       "      <th>day_Thur</th>\n",
       "    </tr>\n",
       "  </thead>\n",
       "  <tbody>\n",
       "    <tr>\n",
       "      <th>190</th>\n",
       "      <td>0.419564</td>\n",
       "      <td>4.0</td>\n",
       "      <td>0.4</td>\n",
       "      <td>0.277299</td>\n",
       "      <td>1</td>\n",
       "      <td>1</td>\n",
       "      <td>0</td>\n",
       "      <td>0</td>\n",
       "      <td>0</td>\n",
       "      <td>1</td>\n",
       "      <td>0</td>\n",
       "    </tr>\n",
       "    <tr>\n",
       "      <th>146</th>\n",
       "      <td>0.110599</td>\n",
       "      <td>1.5</td>\n",
       "      <td>0.2</td>\n",
       "      <td>0.074713</td>\n",
       "      <td>0</td>\n",
       "      <td>0</td>\n",
       "      <td>1</td>\n",
       "      <td>0</td>\n",
       "      <td>0</td>\n",
       "      <td>0</td>\n",
       "      <td>1</td>\n",
       "    </tr>\n",
       "    <tr>\n",
       "      <th>75</th>\n",
       "      <td>0.244240</td>\n",
       "      <td>2.2</td>\n",
       "      <td>0.2</td>\n",
       "      <td>0.258046</td>\n",
       "      <td>0</td>\n",
       "      <td>0</td>\n",
       "      <td>0</td>\n",
       "      <td>0</td>\n",
       "      <td>1</td>\n",
       "      <td>0</td>\n",
       "      <td>0</td>\n",
       "    </tr>\n",
       "    <tr>\n",
       "      <th>235</th>\n",
       "      <td>0.260997</td>\n",
       "      <td>3.0</td>\n",
       "      <td>0.2</td>\n",
       "      <td>0.281034</td>\n",
       "      <td>1</td>\n",
       "      <td>1</td>\n",
       "      <td>0</td>\n",
       "      <td>0</td>\n",
       "      <td>1</td>\n",
       "      <td>0</td>\n",
       "      <td>0</td>\n",
       "    </tr>\n",
       "    <tr>\n",
       "      <th>199</th>\n",
       "      <td>0.208002</td>\n",
       "      <td>2.0</td>\n",
       "      <td>0.2</td>\n",
       "      <td>0.208333</td>\n",
       "      <td>0</td>\n",
       "      <td>1</td>\n",
       "      <td>1</td>\n",
       "      <td>0</td>\n",
       "      <td>0</td>\n",
       "      <td>0</td>\n",
       "      <td>1</td>\n",
       "    </tr>\n",
       "  </tbody>\n",
       "</table>\n",
       "</div>"
      ],
      "text/plain": [
       "     total_bill  tip  size  price_per_person  sex_Male  smoker_Yes  \\\n",
       "190    0.419564  4.0   0.4          0.277299         1           1   \n",
       "146    0.110599  1.5   0.2          0.074713         0           0   \n",
       "75     0.244240  2.2   0.2          0.258046         0           0   \n",
       "235    0.260997  3.0   0.2          0.281034         1           1   \n",
       "199    0.208002  2.0   0.2          0.208333         0           1   \n",
       "\n",
       "     time_Lunch  day_Fri  day_Sat  day_Sun  day_Thur  \n",
       "190           0        0        0        1         0  \n",
       "146           1        0        0        0         1  \n",
       "75            0        0        1        0         0  \n",
       "235           0        0        1        0         0  \n",
       "199           1        0        0        0         1  "
      ]
     },
     "execution_count": 41,
     "metadata": {},
     "output_type": "execute_result"
    }
   ],
   "source": [
    "train.head()"
   ]
  },
  {
   "cell_type": "code",
   "execution_count": 42,
   "id": "ad1872ce-2898-463f-add6-aaa2a2368a4b",
   "metadata": {},
   "outputs": [],
   "source": [
    "val = pd.get_dummies(val, columns=['sex', 'smoker', 'time'], drop_first=True)\n",
    "val = pd.get_dummies(val, columns=['day'], drop_first=False)"
   ]
  },
  {
   "cell_type": "code",
   "execution_count": 43,
   "id": "c34b2067-895d-40b6-b519-b697038837d9",
   "metadata": {},
   "outputs": [],
   "source": [
    "X = train.drop(columns = ['tip'])\n",
    "y = train.tip"
   ]
  },
  {
   "cell_type": "code",
   "execution_count": 44,
   "id": "df09540a-938d-4a89-875c-9791afe9f089",
   "metadata": {},
   "outputs": [
    {
     "data": {
      "text/html": [
       "<style>#sk-container-id-1 {color: black;background-color: white;}#sk-container-id-1 pre{padding: 0;}#sk-container-id-1 div.sk-toggleable {background-color: white;}#sk-container-id-1 label.sk-toggleable__label {cursor: pointer;display: block;width: 100%;margin-bottom: 0;padding: 0.3em;box-sizing: border-box;text-align: center;}#sk-container-id-1 label.sk-toggleable__label-arrow:before {content: \"▸\";float: left;margin-right: 0.25em;color: #696969;}#sk-container-id-1 label.sk-toggleable__label-arrow:hover:before {color: black;}#sk-container-id-1 div.sk-estimator:hover label.sk-toggleable__label-arrow:before {color: black;}#sk-container-id-1 div.sk-toggleable__content {max-height: 0;max-width: 0;overflow: hidden;text-align: left;background-color: #f0f8ff;}#sk-container-id-1 div.sk-toggleable__content pre {margin: 0.2em;color: black;border-radius: 0.25em;background-color: #f0f8ff;}#sk-container-id-1 input.sk-toggleable__control:checked~div.sk-toggleable__content {max-height: 200px;max-width: 100%;overflow: auto;}#sk-container-id-1 input.sk-toggleable__control:checked~label.sk-toggleable__label-arrow:before {content: \"▾\";}#sk-container-id-1 div.sk-estimator input.sk-toggleable__control:checked~label.sk-toggleable__label {background-color: #d4ebff;}#sk-container-id-1 div.sk-label input.sk-toggleable__control:checked~label.sk-toggleable__label {background-color: #d4ebff;}#sk-container-id-1 input.sk-hidden--visually {border: 0;clip: rect(1px 1px 1px 1px);clip: rect(1px, 1px, 1px, 1px);height: 1px;margin: -1px;overflow: hidden;padding: 0;position: absolute;width: 1px;}#sk-container-id-1 div.sk-estimator {font-family: monospace;background-color: #f0f8ff;border: 1px dotted black;border-radius: 0.25em;box-sizing: border-box;margin-bottom: 0.5em;}#sk-container-id-1 div.sk-estimator:hover {background-color: #d4ebff;}#sk-container-id-1 div.sk-parallel-item::after {content: \"\";width: 100%;border-bottom: 1px solid gray;flex-grow: 1;}#sk-container-id-1 div.sk-label:hover label.sk-toggleable__label {background-color: #d4ebff;}#sk-container-id-1 div.sk-serial::before {content: \"\";position: absolute;border-left: 1px solid gray;box-sizing: border-box;top: 0;bottom: 0;left: 50%;z-index: 0;}#sk-container-id-1 div.sk-serial {display: flex;flex-direction: column;align-items: center;background-color: white;padding-right: 0.2em;padding-left: 0.2em;position: relative;}#sk-container-id-1 div.sk-item {position: relative;z-index: 1;}#sk-container-id-1 div.sk-parallel {display: flex;align-items: stretch;justify-content: center;background-color: white;position: relative;}#sk-container-id-1 div.sk-item::before, #sk-container-id-1 div.sk-parallel-item::before {content: \"\";position: absolute;border-left: 1px solid gray;box-sizing: border-box;top: 0;bottom: 0;left: 50%;z-index: -1;}#sk-container-id-1 div.sk-parallel-item {display: flex;flex-direction: column;z-index: 1;position: relative;background-color: white;}#sk-container-id-1 div.sk-parallel-item:first-child::after {align-self: flex-end;width: 50%;}#sk-container-id-1 div.sk-parallel-item:last-child::after {align-self: flex-start;width: 50%;}#sk-container-id-1 div.sk-parallel-item:only-child::after {width: 0;}#sk-container-id-1 div.sk-dashed-wrapped {border: 1px dashed gray;margin: 0 0.4em 0.5em 0.4em;box-sizing: border-box;padding-bottom: 0.4em;background-color: white;}#sk-container-id-1 div.sk-label label {font-family: monospace;font-weight: bold;display: inline-block;line-height: 1.2em;}#sk-container-id-1 div.sk-label-container {text-align: center;}#sk-container-id-1 div.sk-container {/* jupyter's `normalize.less` sets `[hidden] { display: none; }` but bootstrap.min.css set `[hidden] { display: none !important; }` so we also need the `!important` here to be able to override the default hidden behavior on the sphinx rendered scikit-learn.org. See: https://github.com/scikit-learn/scikit-learn/issues/21755 */display: inline-block !important;position: relative;}#sk-container-id-1 div.sk-text-repr-fallback {display: none;}</style><div id=\"sk-container-id-1\" class=\"sk-top-container\"><div class=\"sk-text-repr-fallback\"><pre>SelectKBest(k=2, score_func=&lt;function f_regression at 0x141a11360&gt;)</pre><b>In a Jupyter environment, please rerun this cell to show the HTML representation or trust the notebook. <br />On GitHub, the HTML representation is unable to render, please try loading this page with nbviewer.org.</b></div><div class=\"sk-container\" hidden><div class=\"sk-item\"><div class=\"sk-estimator sk-toggleable\"><input class=\"sk-toggleable__control sk-hidden--visually\" id=\"sk-estimator-id-1\" type=\"checkbox\" checked><label for=\"sk-estimator-id-1\" class=\"sk-toggleable__label sk-toggleable__label-arrow\">SelectKBest</label><div class=\"sk-toggleable__content\"><pre>SelectKBest(k=2, score_func=&lt;function f_regression at 0x141a11360&gt;)</pre></div></div></div></div></div>"
      ],
      "text/plain": [
       "SelectKBest(k=2, score_func=<function f_regression at 0x141a11360>)"
      ]
     },
     "execution_count": 44,
     "metadata": {},
     "output_type": "execute_result"
    }
   ],
   "source": [
    "skb = SelectKBest(f_regression, k=2)\n",
    "\n",
    "skb.fit(X, y)"
   ]
  },
  {
   "cell_type": "code",
   "execution_count": 46,
   "id": "1e685bff-6532-4aed-b0a1-d95bed1f5be2",
   "metadata": {},
   "outputs": [
    {
     "data": {
      "text/plain": [
       "Index(['total_bill', 'size'], dtype='object')"
      ]
     },
     "execution_count": 46,
     "metadata": {},
     "output_type": "execute_result"
    }
   ],
   "source": [
    "skb_mask = skb.get_support()\n",
    "X.columns[skb_mask]"
   ]
  },
  {
   "cell_type": "code",
   "execution_count": 57,
   "id": "a340b7c1-9fad-4156-8cbd-92f521ad11d7",
   "metadata": {},
   "outputs": [],
   "source": [
    "X_train = train.drop(columns = ['tip'])\n",
    "y_train = train.tip"
   ]
  },
  {
   "cell_type": "code",
   "execution_count": 51,
   "id": "04070196-3dbb-470a-904a-4a4589fcefae",
   "metadata": {},
   "outputs": [
    {
     "data": {
      "text/plain": [
       "Index(['total_bill', 'size'], dtype='object')"
      ]
     },
     "execution_count": 51,
     "metadata": {},
     "output_type": "execute_result"
    }
   ],
   "source": [
    "skb = SelectKBest(mutual_info_regression, k=2)\n",
    "\n",
    "skb.fit(X_train, y_train)\n",
    "skb_mask = skb.get_support()\n",
    "X_train.columns[skb_mask]"
   ]
  },
  {
   "cell_type": "code",
   "execution_count": 64,
   "id": "52afdf21-2669-48c3-9fb7-b0ae737c6a88",
   "metadata": {},
   "outputs": [
    {
     "data": {
      "text/plain": [
       "PearsonRResult(statistic=-0.2253230063798753, pvalue=0.0031341543777673297)"
      ]
     },
     "execution_count": 64,
     "metadata": {},
     "output_type": "execute_result"
    }
   ],
   "source": [
    "stats.pearsonr(X['size'], X['price_per_person'])"
   ]
  },
  {
   "cell_type": "code",
   "execution_count": 65,
   "id": "0049f5ea-e8cc-4b94-beda-17212c3cb81b",
   "metadata": {},
   "outputs": [
    {
     "data": {
      "text/plain": [
       "PearsonRResult(statistic=0.6706478352456997, pvalue=1.4618050047883702e-23)"
      ]
     },
     "execution_count": 65,
     "metadata": {},
     "output_type": "execute_result"
    }
   ],
   "source": [
    "stats.pearsonr(X['price_per_person'], X['total_bill'])"
   ]
  },
  {
   "cell_type": "code",
   "execution_count": 54,
   "id": "8591232b-b94e-4564-9848-512d2d31cdcd",
   "metadata": {},
   "outputs": [
    {
     "data": {
      "text/html": [
       "<div>\n",
       "<style scoped>\n",
       "    .dataframe tbody tr th:only-of-type {\n",
       "        vertical-align: middle;\n",
       "    }\n",
       "\n",
       "    .dataframe tbody tr th {\n",
       "        vertical-align: top;\n",
       "    }\n",
       "\n",
       "    .dataframe thead th {\n",
       "        text-align: right;\n",
       "    }\n",
       "</style>\n",
       "<table border=\"1\" class=\"dataframe\">\n",
       "  <thead>\n",
       "    <tr style=\"text-align: right;\">\n",
       "      <th></th>\n",
       "      <th>total_bill</th>\n",
       "      <th>size</th>\n",
       "      <th>price_per_person</th>\n",
       "      <th>sex_Male</th>\n",
       "      <th>smoker_Yes</th>\n",
       "      <th>time_Lunch</th>\n",
       "      <th>day_Fri</th>\n",
       "      <th>day_Sat</th>\n",
       "      <th>day_Sun</th>\n",
       "      <th>day_Thur</th>\n",
       "    </tr>\n",
       "  </thead>\n",
       "  <tbody>\n",
       "    <tr>\n",
       "      <th>190</th>\n",
       "      <td>0.419564</td>\n",
       "      <td>0.4</td>\n",
       "      <td>0.277299</td>\n",
       "      <td>1</td>\n",
       "      <td>1</td>\n",
       "      <td>0</td>\n",
       "      <td>0</td>\n",
       "      <td>0</td>\n",
       "      <td>1</td>\n",
       "      <td>0</td>\n",
       "    </tr>\n",
       "    <tr>\n",
       "      <th>146</th>\n",
       "      <td>0.110599</td>\n",
       "      <td>0.2</td>\n",
       "      <td>0.074713</td>\n",
       "      <td>0</td>\n",
       "      <td>0</td>\n",
       "      <td>1</td>\n",
       "      <td>0</td>\n",
       "      <td>0</td>\n",
       "      <td>0</td>\n",
       "      <td>1</td>\n",
       "    </tr>\n",
       "    <tr>\n",
       "      <th>75</th>\n",
       "      <td>0.244240</td>\n",
       "      <td>0.2</td>\n",
       "      <td>0.258046</td>\n",
       "      <td>0</td>\n",
       "      <td>0</td>\n",
       "      <td>0</td>\n",
       "      <td>0</td>\n",
       "      <td>1</td>\n",
       "      <td>0</td>\n",
       "      <td>0</td>\n",
       "    </tr>\n",
       "  </tbody>\n",
       "</table>\n",
       "</div>"
      ],
      "text/plain": [
       "     total_bill  size  price_per_person  sex_Male  smoker_Yes  time_Lunch  \\\n",
       "190    0.419564   0.4          0.277299         1           1           0   \n",
       "146    0.110599   0.2          0.074713         0           0           1   \n",
       "75     0.244240   0.2          0.258046         0           0           0   \n",
       "\n",
       "     day_Fri  day_Sat  day_Sun  day_Thur  \n",
       "190        0        0        1         0  \n",
       "146        0        0        0         1  \n",
       "75         0        1        0         0  "
      ]
     },
     "execution_count": 54,
     "metadata": {},
     "output_type": "execute_result"
    }
   ],
   "source": [
    "X_train.head(3)"
   ]
  },
  {
   "cell_type": "code",
   "execution_count": 56,
   "id": "b2135b6b-2d57-40ff-b968-5d013fed1e8f",
   "metadata": {},
   "outputs": [
    {
     "data": {
      "text/plain": [
       "Index(['total_bill', 'price_per_person'], dtype='object')"
      ]
     },
     "execution_count": 56,
     "metadata": {},
     "output_type": "execute_result"
    }
   ],
   "source": [
    "lm = LinearRegression()\n",
    "\n",
    "rfe = RFE(lm, n_features_to_select=2)\n",
    "\n",
    "rfe.fit(X,y)\n",
    "\n",
    "rfe_mask = rfe.get_support()\n",
    "\n",
    "X.columns[rfe_mask]"
   ]
  },
  {
   "cell_type": "code",
   "execution_count": 67,
   "id": "62beded4-667a-48a7-af57-a983d148b2c2",
   "metadata": {},
   "outputs": [
    {
     "name": "stdout",
     "output_type": "stream",
     "text": [
      "['total_bill']\n",
      "['total_bill', 'price_per_person']\n",
      "['total_bill', 'price_per_person', 'time_Lunch']\n",
      "['total_bill', 'price_per_person', 'time_Lunch', 'day_Sat']\n",
      "['total_bill', 'price_per_person', 'smoker_Yes', 'time_Lunch', 'day_Sat']\n"
     ]
    }
   ],
   "source": [
    "for n in range(1,6):\n",
    "    lm = LinearRegression()\n",
    "\n",
    "    rfe = RFE(lm, n_features_to_select=n)\n",
    "\n",
    "    rfe.fit(X,y)\n",
    "\n",
    "    rfe_mask = rfe.get_support()\n",
    "\n",
    "    print(list(X.columns[rfe_mask]))"
   ]
  },
  {
   "cell_type": "code",
   "execution_count": 69,
   "id": "7437e012-88fe-4def-93f2-7e58a5e38dbf",
   "metadata": {},
   "outputs": [
    {
     "name": "stdout",
     "output_type": "stream",
     "text": [
      "['total_bill']\n",
      "['total_bill', 'price_per_person']\n",
      "['total_bill', 'size', 'price_per_person']\n",
      "['total_bill', 'size', 'price_per_person', 'sex_Male']\n",
      "['total_bill', 'size', 'price_per_person', 'smoker_Yes', 'day_Sat']\n"
     ]
    }
   ],
   "source": [
    "for n in range(1,6):\n",
    "    skb = SelectKBest(mutual_info_regression, k=n)\n",
    "    skb.fit(X_train, y_train)\n",
    "    skb_mask = skb.get_support()\n",
    "    print(list(X_train.columns[skb_mask]))"
   ]
  },
  {
   "cell_type": "markdown",
   "id": "e792cc6c-3da8-4eaf-bec1-fc1cc86bcb7d",
   "metadata": {},
   "source": [
    "## 2. Write a function named select_kbest that takes in the predictors (X), the target (y), and the number of features to select (k) and returns the names of the top k selected features based on the SelectKBest class. Test your function with the tips dataset. You should see the same results as when you did the process manually."
   ]
  },
  {
   "cell_type": "code",
   "execution_count": 79,
   "id": "e9a0627e-5dc9-4132-98f3-ac3756df010f",
   "metadata": {},
   "outputs": [],
   "source": [
    "def select_kbest(number, x, y):\n",
    "    skb = SelectKBest(mutual_info_regression, k=number)\n",
    "    skb.fit(x, y)\n",
    "    skb_mask = skb.get_support()\n",
    "    print(f' {number}  {list(x.columns[skb_mask])}')"
   ]
  },
  {
   "cell_type": "code",
   "execution_count": 82,
   "id": "cee938fe-d5b5-43db-b0eb-991c21f4dc9f",
   "metadata": {},
   "outputs": [
    {
     "name": "stdout",
     "output_type": "stream",
     "text": [
      " 2  ['total_bill', 'price_per_person']\n"
     ]
    }
   ],
   "source": [
    "select_kbest(2, X_train, y_train)"
   ]
  },
  {
   "cell_type": "markdown",
   "id": "c4518f8c-8cc0-4e34-b028-344cae80f8b0",
   "metadata": {},
   "source": [
    "## 3. Write a function named rfe that takes in the predictors, the target, and the number of features to select. It should return the top n features based on the RFE class. Test your function with the tips dataset. You should see the same results as when you did the process manually."
   ]
  },
  {
   "cell_type": "code",
   "execution_count": 84,
   "id": "f53f7a35-0192-4612-80b1-34971f74a4ba",
   "metadata": {},
   "outputs": [],
   "source": [
    "def rfe_(number, x, y):\n",
    "    lm = LinearRegression()\n",
    "\n",
    "    rfe = RFE(lm, n_features_to_select=number)\n",
    "\n",
    "    rfe.fit(x,y)\n",
    "\n",
    "    rfe_mask = rfe.get_support()\n",
    "\n",
    "    print(list(x.columns[rfe_mask]))"
   ]
  },
  {
   "cell_type": "code",
   "execution_count": 85,
   "id": "6e19fe44-2aec-44c5-b08d-fb5893221175",
   "metadata": {},
   "outputs": [
    {
     "name": "stdout",
     "output_type": "stream",
     "text": [
      "['total_bill', 'price_per_person', 'time_Lunch']\n"
     ]
    }
   ],
   "source": [
    "rfe_(3, X_train, y_train)"
   ]
  },
  {
   "cell_type": "markdown",
   "id": "28e15c69-1827-47c1-a997-dcc82c073bc0",
   "metadata": {},
   "source": [
    "## 4. Load the swiss dataset and use all the other features to predict Fertility. Find the top 3 features using both Select K Best and Recursive Feature Elimination (use the functions you just built to help you out)."
   ]
  },
  {
   "cell_type": "code",
   "execution_count": 87,
   "id": "f2f56dc6-7cec-434b-8f7b-6766e2461dee",
   "metadata": {},
   "outputs": [],
   "source": [
    "sw = data('swiss')"
   ]
  },
  {
   "cell_type": "code",
   "execution_count": 90,
   "id": "5bdb3036-3e00-45c9-b92d-7d12a5012912",
   "metadata": {},
   "outputs": [],
   "source": [
    "sc = ['Agriculture', 'Examination', 'Education', 'Catholic',\n",
    "       'Infant.Mortality']\n",
    "train, val, test = wg.scale(sw, scaled_cols=sc)"
   ]
  },
  {
   "cell_type": "code",
   "execution_count": 92,
   "id": "9c8e1c93-537a-4809-835c-77b9d2f2848b",
   "metadata": {},
   "outputs": [
    {
     "data": {
      "text/html": [
       "<div>\n",
       "<style scoped>\n",
       "    .dataframe tbody tr th:only-of-type {\n",
       "        vertical-align: middle;\n",
       "    }\n",
       "\n",
       "    .dataframe tbody tr th {\n",
       "        vertical-align: top;\n",
       "    }\n",
       "\n",
       "    .dataframe thead th {\n",
       "        text-align: right;\n",
       "    }\n",
       "</style>\n",
       "<table border=\"1\" class=\"dataframe\">\n",
       "  <thead>\n",
       "    <tr style=\"text-align: right;\">\n",
       "      <th></th>\n",
       "      <th>Fertility</th>\n",
       "      <th>Agriculture</th>\n",
       "      <th>Examination</th>\n",
       "      <th>Education</th>\n",
       "      <th>Catholic</th>\n",
       "      <th>Infant.Mortality</th>\n",
       "    </tr>\n",
       "  </thead>\n",
       "  <tbody>\n",
       "    <tr>\n",
       "      <th>Glane</th>\n",
       "      <td>92.4</td>\n",
       "      <td>0.786305</td>\n",
       "      <td>0.323529</td>\n",
       "      <td>0.134615</td>\n",
       "      <td>0.973862</td>\n",
       "      <td>1.000000</td>\n",
       "    </tr>\n",
       "    <tr>\n",
       "      <th>V. De Geneve</th>\n",
       "      <td>35.0</td>\n",
       "      <td>0.000000</td>\n",
       "      <td>1.000000</td>\n",
       "      <td>1.000000</td>\n",
       "      <td>0.411952</td>\n",
       "      <td>0.510638</td>\n",
       "    </tr>\n",
       "    <tr>\n",
       "      <th>La Vallee</th>\n",
       "      <td>54.3</td>\n",
       "      <td>0.165289</td>\n",
       "      <td>0.823529</td>\n",
       "      <td>0.365385</td>\n",
       "      <td>0.000000</td>\n",
       "      <td>0.000000</td>\n",
       "    </tr>\n",
       "    <tr>\n",
       "      <th>Payerne</th>\n",
       "      <td>74.2</td>\n",
       "      <td>0.671783</td>\n",
       "      <td>0.323529</td>\n",
       "      <td>0.134615</td>\n",
       "      <td>0.031570</td>\n",
       "      <td>0.921986</td>\n",
       "    </tr>\n",
       "    <tr>\n",
       "      <th>Lavaux</th>\n",
       "      <td>65.1</td>\n",
       "      <td>0.847698</td>\n",
       "      <td>0.470588</td>\n",
       "      <td>0.153846</td>\n",
       "      <td>0.007073</td>\n",
       "      <td>0.652482</td>\n",
       "    </tr>\n",
       "  </tbody>\n",
       "</table>\n",
       "</div>"
      ],
      "text/plain": [
       "              Fertility  Agriculture  Examination  Education  Catholic  \\\n",
       "Glane              92.4     0.786305     0.323529   0.134615  0.973862   \n",
       "V. De Geneve       35.0     0.000000     1.000000   1.000000  0.411952   \n",
       "La Vallee          54.3     0.165289     0.823529   0.365385  0.000000   \n",
       "Payerne            74.2     0.671783     0.323529   0.134615  0.031570   \n",
       "Lavaux             65.1     0.847698     0.470588   0.153846  0.007073   \n",
       "\n",
       "              Infant.Mortality  \n",
       "Glane                 1.000000  \n",
       "V. De Geneve          0.510638  \n",
       "La Vallee             0.000000  \n",
       "Payerne               0.921986  \n",
       "Lavaux                0.652482  "
      ]
     },
     "execution_count": 92,
     "metadata": {},
     "output_type": "execute_result"
    }
   ],
   "source": [
    "train.head()"
   ]
  },
  {
   "cell_type": "code",
   "execution_count": 93,
   "id": "fcd373c0-2dd3-4a47-bd3c-e208bea393c4",
   "metadata": {},
   "outputs": [],
   "source": [
    "X = sw.drop(columns = ['Fertility'])\n",
    "y = sw.Fertility"
   ]
  },
  {
   "cell_type": "code",
   "execution_count": 96,
   "id": "6ae0f693-54d7-48ca-8468-ff8aec403b34",
   "metadata": {},
   "outputs": [
    {
     "name": "stdout",
     "output_type": "stream",
     "text": [
      " 3  ['Examination', 'Education', 'Catholic']\n"
     ]
    }
   ],
   "source": [
    "select_kbest(3, X, y)"
   ]
  },
  {
   "cell_type": "code",
   "execution_count": 95,
   "id": "be985f28-7943-4fad-99c9-0671ab88e757",
   "metadata": {},
   "outputs": [
    {
     "name": "stdout",
     "output_type": "stream",
     "text": [
      "['Examination', 'Education', 'Infant.Mortality']\n"
     ]
    }
   ],
   "source": [
    "rfe_(3, X, y)"
   ]
  },
  {
   "cell_type": "code",
   "execution_count": null,
   "id": "1d641289-1589-4ebd-9730-81b8a9bf993c",
   "metadata": {},
   "outputs": [],
   "source": []
  }
 ],
 "metadata": {
  "kernelspec": {
   "display_name": "Python 3 (ipykernel)",
   "language": "python",
   "name": "python3"
  },
  "language_info": {
   "codemirror_mode": {
    "name": "ipython",
    "version": 3
   },
   "file_extension": ".py",
   "mimetype": "text/x-python",
   "name": "python",
   "nbconvert_exporter": "python",
   "pygments_lexer": "ipython3",
   "version": "3.10.9"
  }
 },
 "nbformat": 4,
 "nbformat_minor": 5
}

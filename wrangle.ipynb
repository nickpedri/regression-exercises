{
 "cells": [
  {
   "cell_type": "markdown",
   "id": "c7d30a48-6e7b-40cf-9a2c-b22b738e659b",
   "metadata": {},
   "source": [
    "# Exercises I\n",
    "\n",
    "Let's review the steps we take at the beginning of each new module."
   ]
  },
  {
   "cell_type": "markdown",
   "id": "6de5aea8-f039-4143-b580-b6f72146f618",
   "metadata": {},
   "source": [
    "## 1. Create a new repository named regression-exercises in your GitHub; all of your Regression work will be housed here."
   ]
  },
  {
   "cell_type": "code",
   "execution_count": 1,
   "id": "ded21d71-f3a4-4c68-b258-10448e256ac8",
   "metadata": {},
   "outputs": [],
   "source": [
    "# Done"
   ]
  },
  {
   "cell_type": "markdown",
   "id": "10eb5468-a351-4d0b-aad8-bf9bf9323a9f",
   "metadata": {},
   "source": [
    "## 2. Clone this repository within your local codeup-data-science directory."
   ]
  },
  {
   "cell_type": "code",
   "execution_count": 2,
   "id": "b581e043-bb49-4266-bf95-44034d699242",
   "metadata": {},
   "outputs": [],
   "source": [
    "# Done"
   ]
  },
  {
   "cell_type": "markdown",
   "id": "adb26e5b-d4ac-473c-9a34-9b28ca030b52",
   "metadata": {
    "tags": []
   },
   "source": [
    "## 3. Create a .gitignore and make sure your list of 'files to ignore' includes your env.py file."
   ]
  },
  {
   "cell_type": "code",
   "execution_count": 3,
   "id": "ce1acd43-73f1-426c-8b66-b2190a0762d0",
   "metadata": {},
   "outputs": [],
   "source": [
    "# Done"
   ]
  },
  {
   "cell_type": "markdown",
   "id": "af1d29a4-08d3-440c-bf3e-f85216a9a385",
   "metadata": {},
   "source": [
    "## 4. Ceate a README.md file that outlines the contents and purpose of your repository."
   ]
  },
  {
   "cell_type": "code",
   "execution_count": 4,
   "id": "b2f0ded2-a47a-46ea-a45e-78c91333d90a",
   "metadata": {},
   "outputs": [],
   "source": [
    "# Done"
   ]
  },
  {
   "cell_type": "markdown",
   "id": "dee55f47-7b4b-40f8-8a15-d4a763da9407",
   "metadata": {},
   "source": [
    "## 5. Add, commit, and push these two files."
   ]
  },
  {
   "cell_type": "code",
   "execution_count": 5,
   "id": "a56b9676-c531-49f8-aa72-a515ea441e4d",
   "metadata": {},
   "outputs": [],
   "source": [
    "# Done"
   ]
  },
  {
   "cell_type": "markdown",
   "id": "999f5437-69e4-4f93-a14f-4af420322e37",
   "metadata": {},
   "source": [
    "## 6. Now you can add your env.py file to this repository to access the Codeup database server."
   ]
  },
  {
   "cell_type": "code",
   "execution_count": 6,
   "id": "1d97323a-3489-48c7-b612-3908ceda9aee",
   "metadata": {},
   "outputs": [],
   "source": [
    "# Done"
   ]
  },
  {
   "cell_type": "markdown",
   "id": "a010d7e3-b0df-4a37-8613-9b288d2f1182",
   "metadata": {},
   "source": [
    "## 7. For these exercises, you will create wrangle.ipynb and wrangle.py files to hold necessary functions."
   ]
  },
  {
   "cell_type": "code",
   "execution_count": 7,
   "id": "4e15585e-fbce-43c7-af11-637b49c89938",
   "metadata": {},
   "outputs": [],
   "source": [
    "# Done"
   ]
  },
  {
   "cell_type": "markdown",
   "id": "1bffc022-dd72-4d1d-afb6-c23678a88570",
   "metadata": {},
   "source": [
    "## 8. As always, add, commit, and push your work often."
   ]
  },
  {
   "cell_type": "code",
   "execution_count": 8,
   "id": "4a6eba5e-6c4d-47d1-b42d-3ba65fcd9941",
   "metadata": {},
   "outputs": [],
   "source": [
    "# Done"
   ]
  },
  {
   "cell_type": "markdown",
   "id": "3c1b3dab-33a8-475c-92ac-5c21b3d8626a",
   "metadata": {
    "tags": []
   },
   "source": [
    "# Exercises II\n",
    "\n",
    "Let's set up an example scenario as perspective for our regression exercises using the Zillow dataset.\n",
    "\n",
    "As a Codeup data science graduate, you want to show off your skills to the Zillow data science team in hopes of getting an interview for a position you saw pop up on LinkedIn. You thought it might look impressive to build an end-to-end project in which you use some of their Kaggle data to predict property values using some of their available features; who knows, you might even do some feature engineering to blow them away. Your goal is to predict the values of single unit properties using the obervations from 2017.\n",
    "\n",
    "In these exercises, you will complete the first step toward the above goal: acquire and prepare the necessary Zillow data from the zillow database in the Codeup database server."
   ]
  },
  {
   "cell_type": "markdown",
   "id": "b91a4b15-a70a-4d99-a81d-278e7316449b",
   "metadata": {},
   "source": [
    "## 1. Acquire bedroomcnt, bathroomcnt, calculatedfinishedsquarefeet, taxvaluedollarcnt, yearbuilt, taxamount, and fips from the zillow database for all 'Single Family Residential' properties."
   ]
  },
  {
   "cell_type": "code",
   "execution_count": 44,
   "id": "04ee14d8-d263-4e8f-83c4-61bce4bcf734",
   "metadata": {},
   "outputs": [],
   "source": [
    "import numpy as np\n",
    "import pandas as pd\n",
    "import os\n",
    "\n",
    "import matplotlib.pyplot as plt\n",
    "import seaborn as sns\n",
    "\n",
    "from wrangle import zillow_data\n",
    "\n",
    "from env import get_connection"
   ]
  },
  {
   "cell_type": "code",
   "execution_count": 10,
   "id": "e0ea4b27-90d5-4867-acac-4abc0e5bc232",
   "metadata": {},
   "outputs": [],
   "source": [
    "#query = '''SELECT bedroomcnt, bathroomcnt, calculatedfinishedsquarefeet, taxvaluedollarcnt, yearbuilt, taxamount, fips \n",
    "#           FROM properties_2017 WHERE propertylandusetypeid = 261'''\n",
    "#url = get_connection('zillow')\n",
    "#df = pd.read_sql(query,url)\n",
    "#df.head(3)"
   ]
  },
  {
   "cell_type": "code",
   "execution_count": 45,
   "id": "e20e5b82-a62c-4bf0-a3f4-e890329a7f8c",
   "metadata": {},
   "outputs": [],
   "source": [
    "zil = zillow_data()"
   ]
  },
  {
   "cell_type": "markdown",
   "id": "ead360a2-a96f-4204-a128-8f9cc2be4dee",
   "metadata": {},
   "source": [
    "## 2. Using your acquired Zillow data, walk through the summarization and cleaning steps in your wrangle.ipynb file like we did above. You may handle the missing values however you feel is appropriate and meaningful; remember to document your process and decisions using markdown and code commenting where helpful."
   ]
  },
  {
   "cell_type": "code",
   "execution_count": 12,
   "id": "b0eac531-d75f-4e0e-9c5a-7dabb223eacc",
   "metadata": {},
   "outputs": [],
   "source": [
    "# First I will check for nulls"
   ]
  },
  {
   "cell_type": "code",
   "execution_count": 13,
   "id": "e707786b-c858-4cab-8f67-f683f938236d",
   "metadata": {},
   "outputs": [
    {
     "data": {
      "text/plain": [
       "bedroomcnt                        11\n",
       "bathroomcnt                       11\n",
       "calculatedfinishedsquarefeet    8484\n",
       "taxvaluedollarcnt                493\n",
       "yearbuilt                       9337\n",
       "taxamount                       4442\n",
       "fips                               0\n",
       "dtype: int64"
      ]
     },
     "execution_count": 13,
     "metadata": {},
     "output_type": "execute_result"
    }
   ],
   "source": [
    "zil.isna().sum()"
   ]
  },
  {
   "cell_type": "code",
   "execution_count": 14,
   "id": "ce802921-d429-4119-8baf-007ec359cdda",
   "metadata": {},
   "outputs": [
    {
     "data": {
      "text/plain": [
       "2152863"
      ]
     },
     "execution_count": 14,
     "metadata": {},
     "output_type": "execute_result"
    }
   ],
   "source": [
    "len(zil)"
   ]
  },
  {
   "cell_type": "markdown",
   "id": "2f3c4d05-806f-4585-a292-ca6fcf80b11b",
   "metadata": {},
   "source": [
    "Since there are only 11 nulls in bedroon and bathroom count I will drop those rows."
   ]
  },
  {
   "cell_type": "code",
   "execution_count": 15,
   "id": "edb5c6f3-c0ae-4435-b07e-f5708b096e40",
   "metadata": {},
   "outputs": [
    {
     "data": {
      "text/plain": [
       "bedroomcnt                         0\n",
       "bathroomcnt                        0\n",
       "calculatedfinishedsquarefeet    8477\n",
       "taxvaluedollarcnt                493\n",
       "yearbuilt                       9333\n",
       "taxamount                       4433\n",
       "fips                               0\n",
       "dtype: int64"
      ]
     },
     "execution_count": 15,
     "metadata": {},
     "output_type": "execute_result"
    }
   ],
   "source": [
    "zil = zil[zil.bedroomcnt.isna() != True]\n",
    "zil.isna().sum()"
   ]
  },
  {
   "cell_type": "code",
   "execution_count": 16,
   "id": "c414ba58-d236-427f-8544-8df0442d28ba",
   "metadata": {},
   "outputs": [
    {
     "data": {
      "text/html": [
       "<div>\n",
       "<style scoped>\n",
       "    .dataframe tbody tr th:only-of-type {\n",
       "        vertical-align: middle;\n",
       "    }\n",
       "\n",
       "    .dataframe tbody tr th {\n",
       "        vertical-align: top;\n",
       "    }\n",
       "\n",
       "    .dataframe thead th {\n",
       "        text-align: right;\n",
       "    }\n",
       "</style>\n",
       "<table border=\"1\" class=\"dataframe\">\n",
       "  <thead>\n",
       "    <tr style=\"text-align: right;\">\n",
       "      <th></th>\n",
       "      <th>bedroomcnt</th>\n",
       "      <th>bathroomcnt</th>\n",
       "      <th>calculatedfinishedsquarefeet</th>\n",
       "      <th>taxvaluedollarcnt</th>\n",
       "      <th>yearbuilt</th>\n",
       "      <th>taxamount</th>\n",
       "      <th>fips</th>\n",
       "    </tr>\n",
       "  </thead>\n",
       "  <tbody>\n",
       "    <tr>\n",
       "      <th>0</th>\n",
       "      <td>0.0</td>\n",
       "      <td>0.0</td>\n",
       "      <td>NaN</td>\n",
       "      <td>27516.0</td>\n",
       "      <td>NaN</td>\n",
       "      <td>NaN</td>\n",
       "      <td>6037.0</td>\n",
       "    </tr>\n",
       "    <tr>\n",
       "      <th>1</th>\n",
       "      <td>0.0</td>\n",
       "      <td>0.0</td>\n",
       "      <td>NaN</td>\n",
       "      <td>10.0</td>\n",
       "      <td>NaN</td>\n",
       "      <td>NaN</td>\n",
       "      <td>6037.0</td>\n",
       "    </tr>\n",
       "    <tr>\n",
       "      <th>2</th>\n",
       "      <td>0.0</td>\n",
       "      <td>0.0</td>\n",
       "      <td>NaN</td>\n",
       "      <td>10.0</td>\n",
       "      <td>NaN</td>\n",
       "      <td>NaN</td>\n",
       "      <td>6037.0</td>\n",
       "    </tr>\n",
       "    <tr>\n",
       "      <th>3</th>\n",
       "      <td>0.0</td>\n",
       "      <td>0.0</td>\n",
       "      <td>NaN</td>\n",
       "      <td>2108.0</td>\n",
       "      <td>NaN</td>\n",
       "      <td>174.21</td>\n",
       "      <td>6037.0</td>\n",
       "    </tr>\n",
       "    <tr>\n",
       "      <th>4</th>\n",
       "      <td>4.0</td>\n",
       "      <td>2.0</td>\n",
       "      <td>3633.0</td>\n",
       "      <td>296425.0</td>\n",
       "      <td>2005.0</td>\n",
       "      <td>6941.39</td>\n",
       "      <td>6037.0</td>\n",
       "    </tr>\n",
       "  </tbody>\n",
       "</table>\n",
       "</div>"
      ],
      "text/plain": [
       "   bedroomcnt  bathroomcnt  calculatedfinishedsquarefeet  taxvaluedollarcnt  \\\n",
       "0         0.0          0.0                           NaN            27516.0   \n",
       "1         0.0          0.0                           NaN               10.0   \n",
       "2         0.0          0.0                           NaN               10.0   \n",
       "3         0.0          0.0                           NaN             2108.0   \n",
       "4         4.0          2.0                        3633.0           296425.0   \n",
       "\n",
       "   yearbuilt  taxamount    fips  \n",
       "0        NaN        NaN  6037.0  \n",
       "1        NaN        NaN  6037.0  \n",
       "2        NaN        NaN  6037.0  \n",
       "3        NaN     174.21  6037.0  \n",
       "4     2005.0    6941.39  6037.0  "
      ]
     },
     "execution_count": 16,
     "metadata": {},
     "output_type": "execute_result"
    }
   ],
   "source": [
    "zil.head()"
   ]
  },
  {
   "cell_type": "markdown",
   "id": "570faa16-e99a-4e91-8c9c-4a07e520e22c",
   "metadata": {},
   "source": [
    "I will also drop the null values in taxvaluedollarcnt since there are 2,150,000 values, 500 values should not have any significant impact."
   ]
  },
  {
   "cell_type": "code",
   "execution_count": 17,
   "id": "26e232e4-6309-4177-bb09-21c180b16b06",
   "metadata": {},
   "outputs": [
    {
     "data": {
      "text/plain": [
       "bedroomcnt                         0\n",
       "bathroomcnt                        0\n",
       "calculatedfinishedsquarefeet    8099\n",
       "taxvaluedollarcnt                  0\n",
       "yearbuilt                       8958\n",
       "taxamount                       3971\n",
       "fips                               0\n",
       "dtype: int64"
      ]
     },
     "execution_count": 17,
     "metadata": {},
     "output_type": "execute_result"
    }
   ],
   "source": [
    "zil = zil[zil.taxvaluedollarcnt.isna() != True]\n",
    "zil.isna().sum()"
   ]
  },
  {
   "cell_type": "code",
   "execution_count": 18,
   "id": "da7f7954-e7df-4490-b7e2-a21505d2c033",
   "metadata": {},
   "outputs": [
    {
     "data": {
      "text/html": [
       "<div>\n",
       "<style scoped>\n",
       "    .dataframe tbody tr th:only-of-type {\n",
       "        vertical-align: middle;\n",
       "    }\n",
       "\n",
       "    .dataframe tbody tr th {\n",
       "        vertical-align: top;\n",
       "    }\n",
       "\n",
       "    .dataframe thead th {\n",
       "        text-align: right;\n",
       "    }\n",
       "</style>\n",
       "<table border=\"1\" class=\"dataframe\">\n",
       "  <thead>\n",
       "    <tr style=\"text-align: right;\">\n",
       "      <th></th>\n",
       "      <th>bedroomcnt</th>\n",
       "      <th>bathroomcnt</th>\n",
       "      <th>calculatedfinishedsquarefeet</th>\n",
       "      <th>taxvaluedollarcnt</th>\n",
       "      <th>yearbuilt</th>\n",
       "      <th>taxamount</th>\n",
       "      <th>fips</th>\n",
       "    </tr>\n",
       "  </thead>\n",
       "  <tbody>\n",
       "    <tr>\n",
       "      <th>count</th>\n",
       "      <td>2152359</td>\n",
       "      <td>2152359</td>\n",
       "      <td>2144260</td>\n",
       "      <td>2152359</td>\n",
       "      <td>2143401</td>\n",
       "      <td>2148388</td>\n",
       "      <td>2152359</td>\n",
       "    </tr>\n",
       "    <tr>\n",
       "      <th>mean</th>\n",
       "      <td>3</td>\n",
       "      <td>2</td>\n",
       "      <td>1862</td>\n",
       "      <td>461896</td>\n",
       "      <td>1960</td>\n",
       "      <td>5634</td>\n",
       "      <td>6048</td>\n",
       "    </tr>\n",
       "    <tr>\n",
       "      <th>std</th>\n",
       "      <td>0</td>\n",
       "      <td>0</td>\n",
       "      <td>1222</td>\n",
       "      <td>699677</td>\n",
       "      <td>22</td>\n",
       "      <td>8178</td>\n",
       "      <td>20</td>\n",
       "    </tr>\n",
       "    <tr>\n",
       "      <th>min</th>\n",
       "      <td>0</td>\n",
       "      <td>0</td>\n",
       "      <td>1</td>\n",
       "      <td>1</td>\n",
       "      <td>1801</td>\n",
       "      <td>1</td>\n",
       "      <td>6037</td>\n",
       "    </tr>\n",
       "    <tr>\n",
       "      <th>25%</th>\n",
       "      <td>3</td>\n",
       "      <td>2</td>\n",
       "      <td>1257</td>\n",
       "      <td>188171</td>\n",
       "      <td>1949</td>\n",
       "      <td>2535</td>\n",
       "      <td>6037</td>\n",
       "    </tr>\n",
       "    <tr>\n",
       "      <th>50%</th>\n",
       "      <td>3</td>\n",
       "      <td>2</td>\n",
       "      <td>1623</td>\n",
       "      <td>327671</td>\n",
       "      <td>1958</td>\n",
       "      <td>4108</td>\n",
       "      <td>6037</td>\n",
       "    </tr>\n",
       "    <tr>\n",
       "      <th>75%</th>\n",
       "      <td>4</td>\n",
       "      <td>3</td>\n",
       "      <td>2208</td>\n",
       "      <td>534527</td>\n",
       "      <td>1976</td>\n",
       "      <td>6414</td>\n",
       "      <td>6059</td>\n",
       "    </tr>\n",
       "    <tr>\n",
       "      <th>max</th>\n",
       "      <td>25</td>\n",
       "      <td>32</td>\n",
       "      <td>952576</td>\n",
       "      <td>98428909</td>\n",
       "      <td>2016</td>\n",
       "      <td>1337755</td>\n",
       "      <td>6111</td>\n",
       "    </tr>\n",
       "  </tbody>\n",
       "</table>\n",
       "</div>"
      ],
      "text/plain": [
       "       bedroomcnt  bathroomcnt  calculatedfinishedsquarefeet  \\\n",
       "count     2152359      2152359                       2144260   \n",
       "mean            3            2                          1862   \n",
       "std             0            0                          1222   \n",
       "min             0            0                             1   \n",
       "25%             3            2                          1257   \n",
       "50%             3            2                          1623   \n",
       "75%             4            3                          2208   \n",
       "max            25           32                        952576   \n",
       "\n",
       "       taxvaluedollarcnt  yearbuilt  taxamount     fips  \n",
       "count            2152359    2143401    2148388  2152359  \n",
       "mean              461896       1960       5634     6048  \n",
       "std               699677         22       8178       20  \n",
       "min                    1       1801          1     6037  \n",
       "25%               188171       1949       2535     6037  \n",
       "50%               327671       1958       4108     6037  \n",
       "75%               534527       1976       6414     6059  \n",
       "max             98428909       2016    1337755     6111  "
      ]
     },
     "execution_count": 18,
     "metadata": {},
     "output_type": "execute_result"
    }
   ],
   "source": [
    "zil.describe().astype('int')"
   ]
  },
  {
   "cell_type": "markdown",
   "id": "053a9781-d5a8-404b-bb5c-5b296efe7b3f",
   "metadata": {},
   "source": [
    "There seems to be significant overlap in in information amongst null values. Most houses with null values in year built also have no square feet\n",
    "and they have 0 bed and bath so theyre maybe not even built. There is too much data to simply impute. I will drop this info"
   ]
  },
  {
   "cell_type": "code",
   "execution_count": 19,
   "id": "6d5d2344-001b-425e-aa5e-0ba6d2081803",
   "metadata": {},
   "outputs": [
    {
     "data": {
      "text/html": [
       "<div>\n",
       "<style scoped>\n",
       "    .dataframe tbody tr th:only-of-type {\n",
       "        vertical-align: middle;\n",
       "    }\n",
       "\n",
       "    .dataframe tbody tr th {\n",
       "        vertical-align: top;\n",
       "    }\n",
       "\n",
       "    .dataframe thead th {\n",
       "        text-align: right;\n",
       "    }\n",
       "</style>\n",
       "<table border=\"1\" class=\"dataframe\">\n",
       "  <thead>\n",
       "    <tr style=\"text-align: right;\">\n",
       "      <th></th>\n",
       "      <th>bedroomcnt</th>\n",
       "      <th>bathroomcnt</th>\n",
       "      <th>calculatedfinishedsquarefeet</th>\n",
       "      <th>taxvaluedollarcnt</th>\n",
       "      <th>yearbuilt</th>\n",
       "      <th>taxamount</th>\n",
       "      <th>fips</th>\n",
       "    </tr>\n",
       "  </thead>\n",
       "  <tbody>\n",
       "    <tr>\n",
       "      <th>0</th>\n",
       "      <td>0.0</td>\n",
       "      <td>0.0</td>\n",
       "      <td>NaN</td>\n",
       "      <td>27516.0</td>\n",
       "      <td>NaN</td>\n",
       "      <td>NaN</td>\n",
       "      <td>6037.0</td>\n",
       "    </tr>\n",
       "    <tr>\n",
       "      <th>1</th>\n",
       "      <td>0.0</td>\n",
       "      <td>0.0</td>\n",
       "      <td>NaN</td>\n",
       "      <td>10.0</td>\n",
       "      <td>NaN</td>\n",
       "      <td>NaN</td>\n",
       "      <td>6037.0</td>\n",
       "    </tr>\n",
       "    <tr>\n",
       "      <th>2</th>\n",
       "      <td>0.0</td>\n",
       "      <td>0.0</td>\n",
       "      <td>NaN</td>\n",
       "      <td>10.0</td>\n",
       "      <td>NaN</td>\n",
       "      <td>NaN</td>\n",
       "      <td>6037.0</td>\n",
       "    </tr>\n",
       "    <tr>\n",
       "      <th>3</th>\n",
       "      <td>0.0</td>\n",
       "      <td>0.0</td>\n",
       "      <td>NaN</td>\n",
       "      <td>2108.0</td>\n",
       "      <td>NaN</td>\n",
       "      <td>174.21</td>\n",
       "      <td>6037.0</td>\n",
       "    </tr>\n",
       "    <tr>\n",
       "      <th>5</th>\n",
       "      <td>0.0</td>\n",
       "      <td>0.0</td>\n",
       "      <td>NaN</td>\n",
       "      <td>124.0</td>\n",
       "      <td>NaN</td>\n",
       "      <td>NaN</td>\n",
       "      <td>6037.0</td>\n",
       "    </tr>\n",
       "    <tr>\n",
       "      <th>...</th>\n",
       "      <td>...</td>\n",
       "      <td>...</td>\n",
       "      <td>...</td>\n",
       "      <td>...</td>\n",
       "      <td>...</td>\n",
       "      <td>...</td>\n",
       "      <td>...</td>\n",
       "    </tr>\n",
       "    <tr>\n",
       "      <th>2152823</th>\n",
       "      <td>0.0</td>\n",
       "      <td>0.0</td>\n",
       "      <td>NaN</td>\n",
       "      <td>2568893.0</td>\n",
       "      <td>NaN</td>\n",
       "      <td>27309.30</td>\n",
       "      <td>6059.0</td>\n",
       "    </tr>\n",
       "    <tr>\n",
       "      <th>2152844</th>\n",
       "      <td>0.0</td>\n",
       "      <td>0.0</td>\n",
       "      <td>NaN</td>\n",
       "      <td>92679.0</td>\n",
       "      <td>NaN</td>\n",
       "      <td>1090.16</td>\n",
       "      <td>6111.0</td>\n",
       "    </tr>\n",
       "    <tr>\n",
       "      <th>2152854</th>\n",
       "      <td>0.0</td>\n",
       "      <td>0.0</td>\n",
       "      <td>NaN</td>\n",
       "      <td>1198476.0</td>\n",
       "      <td>NaN</td>\n",
       "      <td>NaN</td>\n",
       "      <td>6037.0</td>\n",
       "    </tr>\n",
       "    <tr>\n",
       "      <th>2152857</th>\n",
       "      <td>0.0</td>\n",
       "      <td>0.0</td>\n",
       "      <td>NaN</td>\n",
       "      <td>1087111.0</td>\n",
       "      <td>NaN</td>\n",
       "      <td>19313.08</td>\n",
       "      <td>6059.0</td>\n",
       "    </tr>\n",
       "    <tr>\n",
       "      <th>2152860</th>\n",
       "      <td>0.0</td>\n",
       "      <td>0.0</td>\n",
       "      <td>NaN</td>\n",
       "      <td>208057.0</td>\n",
       "      <td>NaN</td>\n",
       "      <td>5783.88</td>\n",
       "      <td>6059.0</td>\n",
       "    </tr>\n",
       "  </tbody>\n",
       "</table>\n",
       "<p>8099 rows × 7 columns</p>\n",
       "</div>"
      ],
      "text/plain": [
       "         bedroomcnt  bathroomcnt  calculatedfinishedsquarefeet  \\\n",
       "0               0.0          0.0                           NaN   \n",
       "1               0.0          0.0                           NaN   \n",
       "2               0.0          0.0                           NaN   \n",
       "3               0.0          0.0                           NaN   \n",
       "5               0.0          0.0                           NaN   \n",
       "...             ...          ...                           ...   \n",
       "2152823         0.0          0.0                           NaN   \n",
       "2152844         0.0          0.0                           NaN   \n",
       "2152854         0.0          0.0                           NaN   \n",
       "2152857         0.0          0.0                           NaN   \n",
       "2152860         0.0          0.0                           NaN   \n",
       "\n",
       "         taxvaluedollarcnt  yearbuilt  taxamount    fips  \n",
       "0                  27516.0        NaN        NaN  6037.0  \n",
       "1                     10.0        NaN        NaN  6037.0  \n",
       "2                     10.0        NaN        NaN  6037.0  \n",
       "3                   2108.0        NaN     174.21  6037.0  \n",
       "5                    124.0        NaN        NaN  6037.0  \n",
       "...                    ...        ...        ...     ...  \n",
       "2152823          2568893.0        NaN   27309.30  6059.0  \n",
       "2152844            92679.0        NaN    1090.16  6111.0  \n",
       "2152854          1198476.0        NaN        NaN  6037.0  \n",
       "2152857          1087111.0        NaN   19313.08  6059.0  \n",
       "2152860           208057.0        NaN    5783.88  6059.0  \n",
       "\n",
       "[8099 rows x 7 columns]"
      ]
     },
     "execution_count": 19,
     "metadata": {},
     "output_type": "execute_result"
    }
   ],
   "source": [
    "zil[zil.calculatedfinishedsquarefeet.isna() == True]"
   ]
  },
  {
   "cell_type": "code",
   "execution_count": 20,
   "id": "3c6801c2-1c8c-41a2-8312-cd7149f3dbca",
   "metadata": {},
   "outputs": [],
   "source": [
    "zil = zil[zil.calculatedfinishedsquarefeet.isna() != True]"
   ]
  },
  {
   "cell_type": "code",
   "execution_count": 21,
   "id": "3186ba7b-84ca-43ba-a07c-3c173ed83d7c",
   "metadata": {},
   "outputs": [
    {
     "data": {
      "text/plain": [
       "bedroomcnt                         0\n",
       "bathroomcnt                        0\n",
       "calculatedfinishedsquarefeet       0\n",
       "taxvaluedollarcnt                  0\n",
       "yearbuilt                       1457\n",
       "taxamount                       2586\n",
       "fips                               0\n",
       "dtype: int64"
      ]
     },
     "execution_count": 21,
     "metadata": {},
     "output_type": "execute_result"
    }
   ],
   "source": [
    "zil.isna().sum()"
   ]
  },
  {
   "cell_type": "code",
   "execution_count": 25,
   "id": "76b66ef2-4278-4795-9c70-31608e00aa23",
   "metadata": {},
   "outputs": [],
   "source": [
    "zil.fips = zil.fips.astype(int)"
   ]
  },
  {
   "cell_type": "code",
   "execution_count": 29,
   "id": "2a0f3184-042f-467c-93b1-d98b2e041ade",
   "metadata": {},
   "outputs": [],
   "source": [
    "zil = zil[zil.yearbuilt.isna() != True]"
   ]
  },
  {
   "cell_type": "code",
   "execution_count": 32,
   "id": "7474f9f9-8bd1-45ee-9acb-d5019fd909d4",
   "metadata": {},
   "outputs": [
    {
     "data": {
      "text/plain": [
       "2142803"
      ]
     },
     "execution_count": 32,
     "metadata": {},
     "output_type": "execute_result"
    }
   ],
   "source": [
    "len(zil)"
   ]
  },
  {
   "cell_type": "code",
   "execution_count": 31,
   "id": "5ea48bfa-ec72-4970-b410-2e205854676d",
   "metadata": {},
   "outputs": [
    {
     "data": {
      "text/plain": [
       "bedroomcnt                         0\n",
       "bathroomcnt                        0\n",
       "calculatedfinishedsquarefeet       0\n",
       "taxvaluedollarcnt                  0\n",
       "yearbuilt                          0\n",
       "taxamount                       2568\n",
       "fips                               0\n",
       "dtype: int64"
      ]
     },
     "execution_count": 31,
     "metadata": {},
     "output_type": "execute_result"
    }
   ],
   "source": [
    "zil.isna().sum()"
   ]
  },
  {
   "cell_type": "code",
   "execution_count": 34,
   "id": "ae5127f3-137f-44a9-adbb-b5fe0a28f0d8",
   "metadata": {},
   "outputs": [],
   "source": [
    "zil = zil[zil.taxamount.isna() != True]"
   ]
  },
  {
   "cell_type": "code",
   "execution_count": 35,
   "id": "f6badca6-e087-45e0-8b89-60ea7e18a2ec",
   "metadata": {},
   "outputs": [
    {
     "data": {
      "text/plain": [
       "bedroomcnt                      0\n",
       "bathroomcnt                     0\n",
       "calculatedfinishedsquarefeet    0\n",
       "taxvaluedollarcnt               0\n",
       "yearbuilt                       0\n",
       "taxamount                       0\n",
       "fips                            0\n",
       "dtype: int64"
      ]
     },
     "execution_count": 35,
     "metadata": {},
     "output_type": "execute_result"
    }
   ],
   "source": [
    "zil.isna().sum()"
   ]
  },
  {
   "cell_type": "code",
   "execution_count": 52,
   "id": "b88fce1d-5d38-4c7e-af42-baa95d66499f",
   "metadata": {},
   "outputs": [
    {
     "data": {
      "text/plain": [
       "2.00     943589\n",
       "3.00     422841\n",
       "1.00     414324\n",
       "2.50     142981\n",
       "4.00      82155\n",
       "1.50      31211\n",
       "3.50      28518\n",
       "5.00      28362\n",
       "4.50      19506\n",
       "0.00      13027\n",
       "6.00      10747\n",
       "5.50       6217\n",
       "7.00       4394\n",
       "8.00       1692\n",
       "6.50       1333\n",
       "9.00        713\n",
       "7.50        384\n",
       "10.00       325\n",
       "11.00       146\n",
       "8.50        110\n",
       "12.00        73\n",
       "9.50         50\n",
       "13.00        39\n",
       "14.00        25\n",
       "15.00        17\n",
       "0.50         16\n",
       "10.50        14\n",
       "16.00        12\n",
       "18.00         8\n",
       "20.00         6\n",
       "17.00         4\n",
       "1.75          3\n",
       "12.50         3\n",
       "11.50         3\n",
       "19.50         1\n",
       "14.50         1\n",
       "32.00         1\n",
       "19.00         1\n",
       "Name: bathrooms, dtype: int64"
      ]
     },
     "execution_count": 52,
     "metadata": {},
     "output_type": "execute_result"
    }
   ],
   "source": [
    "zil.bathrooms.value_counts()"
   ]
  },
  {
   "cell_type": "code",
   "execution_count": 61,
   "id": "611b490b-4c5d-48b7-a5d6-443ac6540549",
   "metadata": {},
   "outputs": [
    {
     "data": {
      "text/plain": [
       "6037.0    1431811\n",
       "6059.0     555077\n",
       "6111.0     165975\n",
       "Name: fips, dtype: int64"
      ]
     },
     "execution_count": 61,
     "metadata": {},
     "output_type": "execute_result"
    }
   ],
   "source": [
    "zil.fips.value_counts()"
   ]
  },
  {
   "cell_type": "code",
   "execution_count": 53,
   "id": "026089d5-ec76-4c75-9ec3-8aefe5a9c08f",
   "metadata": {},
   "outputs": [
    {
     "data": {
      "text/plain": [
       "3.0     964298\n",
       "4.0     634289\n",
       "2.0     335473\n",
       "5.0     150866\n",
       "6.0      25166\n",
       "1.0      23166\n",
       "0.0      13187\n",
       "7.0       4807\n",
       "8.0       1107\n",
       "9.0        291\n",
       "10.0       121\n",
       "11.0        34\n",
       "13.0        16\n",
       "12.0        12\n",
       "14.0         7\n",
       "15.0         6\n",
       "18.0         3\n",
       "16.0         2\n",
       "25.0         1\n",
       "Name: bedrooms, dtype: int64"
      ]
     },
     "execution_count": 53,
     "metadata": {},
     "output_type": "execute_result"
    }
   ],
   "source": [
    "zil.bedrooms.value_counts()"
   ]
  },
  {
   "cell_type": "code",
   "execution_count": 74,
   "id": "97e69d2e-5443-4623-8c57-5f2195b61fc2",
   "metadata": {},
   "outputs": [],
   "source": [
    "fips_codes = {'6037' : 'Los Angeles County',\n",
    "              '6059' : 'Orange County',\n",
    "              '6111' : 'Ventura County'}\n",
    "zil.fips.astype(str)"
   ]
  },
  {
   "cell_type": "code",
   "execution_count": 83,
   "id": "fdddb499-2139-4cff-9603-7ebcd6a8d5ee",
   "metadata": {},
   "outputs": [
    {
     "data": {
      "text/plain": [
       "[None, None, None, None, None]"
      ]
     },
     "execution_count": 83,
     "metadata": {},
     "output_type": "execute_result"
    }
   ],
   "source": [
    "[fips_codes.get(fip) for fip in zil.fips.astype(str)][:5]"
   ]
  },
  {
   "cell_type": "code",
   "execution_count": 36,
   "id": "1115dead-748d-4aeb-afcf-19fe95373765",
   "metadata": {},
   "outputs": [
    {
     "data": {
      "text/plain": [
       "Index(['bedroomcnt', 'bathroomcnt', 'calculatedfinishedsquarefeet',\n",
       "       'taxvaluedollarcnt', 'yearbuilt', 'taxamount', 'fips'],\n",
       "      dtype='object')"
      ]
     },
     "execution_count": 36,
     "metadata": {},
     "output_type": "execute_result"
    }
   ],
   "source": [
    "zil.columns"
   ]
  },
  {
   "cell_type": "code",
   "execution_count": 42,
   "id": "70c2ab4b-5e94-4d0c-a943-e736a2582762",
   "metadata": {},
   "outputs": [],
   "source": [
    "rename = {'bedroomcnt':'bedrooms', \n",
    "          'bathroomcnt':'bathrooms', \n",
    "          'calculatedfinishedsquarefeet':'sq_ft',\n",
    "          'taxvaluedollarcnt':'price', \n",
    "          'yearbuilt':'year_built', \n",
    "          'taxamount':'tax_amount'}"
   ]
  },
  {
   "cell_type": "code",
   "execution_count": 50,
   "id": "beb7e70f-895a-4f70-b00e-8cf925abc624",
   "metadata": {},
   "outputs": [],
   "source": [
    "zil = zil.rename(columns=rename)"
   ]
  },
  {
   "cell_type": "markdown",
   "id": "ecd9afc8-5f19-4fee-a2ee-a186099ded6d",
   "metadata": {},
   "source": [
    "## 3. Store all of the necessary functions to automate your process from acquiring the data to returning a cleaned dataframe with no missing values in your wrangle.py file. Name your final function wrangle_zillow."
   ]
  },
  {
   "cell_type": "code",
   "execution_count": 55,
   "id": "48f2f156-5534-4070-9bc8-36033f1ee298",
   "metadata": {},
   "outputs": [],
   "source": [
    "def wrangle_zillow():\n",
    "    zil = zillow_data()\n",
    "    zil = zil[zil.bedroomcnt.isna() != True]\n",
    "    zil = zil[zil.taxvaluedollarcnt.isna() != True]\n",
    "    zil = zil[zil.calculatedfinishedsquarefeet.isna() != True]\n",
    "    zil = zil[zil.yearbuilt.isna() != True]\n",
    "    zil = zil[zil.taxamount.isna() != True]\n",
    "    rename = {'bedroomcnt':'bedrooms',  \n",
    "              'bathroomcnt':'bathrooms', \n",
    "              'calculatedfinishedsquarefeet':'sq_ft',\n",
    "              'taxvaluedollarcnt':'price', \n",
    "              'yearbuilt':'year_built', \n",
    "              'taxamount':'tax_amount'}\n",
    "    zil = zil.rename(columns=rename)\n",
    "    zil.fips = zil.fips.astype(int)  # Convert fips to integer since it is not a decimal\n",
    "    zil.bedrooms = zil.bedrooms.astype(int)  # Converts bedroom to integer since it is not a decimal\n",
    "    return zil"
   ]
  },
  {
   "cell_type": "code",
   "execution_count": 86,
   "id": "be021e02-248f-452e-9c73-374e681aaaeb",
   "metadata": {},
   "outputs": [],
   "source": [
    "zil = wrangle_zillow()"
   ]
  },
  {
   "cell_type": "code",
   "execution_count": 87,
   "id": "05237e37-0fd5-4fc6-ad08-3ca7bd72137c",
   "metadata": {},
   "outputs": [],
   "source": [
    "fips_codes = {'6037' : 'Los Angeles County',\n",
    "              '6059' : 'Orange County',\n",
    "              '6111' : 'Ventura County'}\n",
    "zil.fips = [fips_codes.get(fip) for fip in zil.fips.astype(str)]"
   ]
  },
  {
   "cell_type": "code",
   "execution_count": 88,
   "id": "4a4ffdda-2fb5-40f7-9e96-106e91088fca",
   "metadata": {},
   "outputs": [
    {
     "data": {
      "text/plain": [
       "Los Angeles County    1425207\n",
       "Orange County          552057\n",
       "Ventura County         162971\n",
       "Name: fips, dtype: int64"
      ]
     },
     "execution_count": 88,
     "metadata": {},
     "output_type": "execute_result"
    }
   ],
   "source": [
    "zil.fips.value_counts()"
   ]
  },
  {
   "cell_type": "code",
   "execution_count": null,
   "id": "5a01f508-92a9-4afd-a771-ff3106067e31",
   "metadata": {},
   "outputs": [],
   "source": []
  }
 ],
 "metadata": {
  "kernelspec": {
   "display_name": "Python 3 (ipykernel)",
   "language": "python",
   "name": "python3"
  },
  "language_info": {
   "codemirror_mode": {
    "name": "ipython",
    "version": 3
   },
   "file_extension": ".py",
   "mimetype": "text/x-python",
   "name": "python",
   "nbconvert_exporter": "python",
   "pygments_lexer": "ipython3",
   "version": "3.10.9"
  }
 },
 "nbformat": 4,
 "nbformat_minor": 5
}

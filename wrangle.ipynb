{
 "cells": [
  {
   "cell_type": "markdown",
   "id": "c7d30a48-6e7b-40cf-9a2c-b22b738e659b",
   "metadata": {},
   "source": [
    "# Exercises I\n",
    "\n",
    "Let's review the steps we take at the beginning of each new module."
   ]
  },
  {
   "cell_type": "markdown",
   "id": "6de5aea8-f039-4143-b580-b6f72146f618",
   "metadata": {},
   "source": [
    "## 1. Create a new repository named regression-exercises in your GitHub; all of your Regression work will be housed here."
   ]
  },
  {
   "cell_type": "code",
   "execution_count": 1,
   "id": "ded21d71-f3a4-4c68-b258-10448e256ac8",
   "metadata": {},
   "outputs": [],
   "source": [
    "# Done"
   ]
  },
  {
   "cell_type": "markdown",
   "id": "10eb5468-a351-4d0b-aad8-bf9bf9323a9f",
   "metadata": {},
   "source": [
    "## 2. Clone this repository within your local codeup-data-science directory."
   ]
  },
  {
   "cell_type": "code",
   "execution_count": 2,
   "id": "b581e043-bb49-4266-bf95-44034d699242",
   "metadata": {},
   "outputs": [],
   "source": [
    "# Done"
   ]
  },
  {
   "cell_type": "markdown",
   "id": "adb26e5b-d4ac-473c-9a34-9b28ca030b52",
   "metadata": {
    "tags": []
   },
   "source": [
    "## 3. Create a .gitignore and make sure your list of 'files to ignore' includes your env.py file."
   ]
  },
  {
   "cell_type": "code",
   "execution_count": 3,
   "id": "ce1acd43-73f1-426c-8b66-b2190a0762d0",
   "metadata": {},
   "outputs": [],
   "source": [
    "# Done"
   ]
  },
  {
   "cell_type": "markdown",
   "id": "af1d29a4-08d3-440c-bf3e-f85216a9a385",
   "metadata": {},
   "source": [
    "## 4. Ceate a README.md file that outlines the contents and purpose of your repository."
   ]
  },
  {
   "cell_type": "code",
   "execution_count": 4,
   "id": "b2f0ded2-a47a-46ea-a45e-78c91333d90a",
   "metadata": {},
   "outputs": [],
   "source": [
    "# Done"
   ]
  },
  {
   "cell_type": "markdown",
   "id": "dee55f47-7b4b-40f8-8a15-d4a763da9407",
   "metadata": {},
   "source": [
    "## 5. Add, commit, and push these two files."
   ]
  },
  {
   "cell_type": "code",
   "execution_count": 5,
   "id": "a56b9676-c531-49f8-aa72-a515ea441e4d",
   "metadata": {},
   "outputs": [],
   "source": [
    "# Done"
   ]
  },
  {
   "cell_type": "markdown",
   "id": "999f5437-69e4-4f93-a14f-4af420322e37",
   "metadata": {},
   "source": [
    "## 6. Now you can add your env.py file to this repository to access the Codeup database server."
   ]
  },
  {
   "cell_type": "code",
   "execution_count": 6,
   "id": "1d97323a-3489-48c7-b612-3908ceda9aee",
   "metadata": {},
   "outputs": [],
   "source": [
    "# Done"
   ]
  },
  {
   "cell_type": "markdown",
   "id": "a010d7e3-b0df-4a37-8613-9b288d2f1182",
   "metadata": {},
   "source": [
    "## 7. For these exercises, you will create wrangle.ipynb and wrangle.py files to hold necessary functions."
   ]
  },
  {
   "cell_type": "code",
   "execution_count": 7,
   "id": "4e15585e-fbce-43c7-af11-637b49c89938",
   "metadata": {},
   "outputs": [],
   "source": [
    "# Done"
   ]
  },
  {
   "cell_type": "markdown",
   "id": "1bffc022-dd72-4d1d-afb6-c23678a88570",
   "metadata": {},
   "source": [
    "## 8. As always, add, commit, and push your work often."
   ]
  },
  {
   "cell_type": "code",
   "execution_count": 8,
   "id": "4a6eba5e-6c4d-47d1-b42d-3ba65fcd9941",
   "metadata": {},
   "outputs": [],
   "source": [
    "# Done"
   ]
  },
  {
   "cell_type": "markdown",
   "id": "3c1b3dab-33a8-475c-92ac-5c21b3d8626a",
   "metadata": {
    "tags": []
   },
   "source": [
    "# Exercises II\n",
    "\n",
    "Let's set up an example scenario as perspective for our regression exercises using the Zillow dataset.\n",
    "\n",
    "As a Codeup data science graduate, you want to show off your skills to the Zillow data science team in hopes of getting an interview for a position you saw pop up on LinkedIn. You thought it might look impressive to build an end-to-end project in which you use some of their Kaggle data to predict property values using some of their available features; who knows, you might even do some feature engineering to blow them away. Your goal is to predict the values of single unit properties using the obervations from 2017.\n",
    "\n",
    "In these exercises, you will complete the first step toward the above goal: acquire and prepare the necessary Zillow data from the zillow database in the Codeup database server."
   ]
  },
  {
   "cell_type": "markdown",
   "id": "b91a4b15-a70a-4d99-a81d-278e7316449b",
   "metadata": {},
   "source": [
    "## 1. Acquire bedroomcnt, bathroomcnt, calculatedfinishedsquarefeet, taxvaluedollarcnt, yearbuilt, taxamount, and fips from the zillow database for all 'Single Family Residential' properties."
   ]
  },
  {
   "cell_type": "code",
   "execution_count": 10,
   "id": "04ee14d8-d263-4e8f-83c4-61bce4bcf734",
   "metadata": {},
   "outputs": [],
   "source": [
    "import numpy as np\n",
    "import pandas as pd\n",
    "import os\n",
    "\n",
    "import matplotlib.pyplot as plt\n",
    "import seaborn as sns\n",
    "\n",
    "import wrangle as wg\n",
    "\n",
    "from env import get_connection"
   ]
  },
  {
   "cell_type": "code",
   "execution_count": 11,
   "id": "e0ea4b27-90d5-4867-acac-4abc0e5bc232",
   "metadata": {},
   "outputs": [
    {
     "data": {
      "text/html": [
       "<div>\n",
       "<style scoped>\n",
       "    .dataframe tbody tr th:only-of-type {\n",
       "        vertical-align: middle;\n",
       "    }\n",
       "\n",
       "    .dataframe tbody tr th {\n",
       "        vertical-align: top;\n",
       "    }\n",
       "\n",
       "    .dataframe thead th {\n",
       "        text-align: right;\n",
       "    }\n",
       "</style>\n",
       "<table border=\"1\" class=\"dataframe\">\n",
       "  <thead>\n",
       "    <tr style=\"text-align: right;\">\n",
       "      <th></th>\n",
       "      <th>bedroomcnt</th>\n",
       "      <th>bathroomcnt</th>\n",
       "      <th>calculatedfinishedsquarefeet</th>\n",
       "      <th>taxvaluedollarcnt</th>\n",
       "      <th>yearbuilt</th>\n",
       "      <th>taxamount</th>\n",
       "      <th>fips</th>\n",
       "    </tr>\n",
       "  </thead>\n",
       "  <tbody>\n",
       "    <tr>\n",
       "      <th>0</th>\n",
       "      <td>0.0</td>\n",
       "      <td>0.0</td>\n",
       "      <td>NaN</td>\n",
       "      <td>27516.0</td>\n",
       "      <td>NaN</td>\n",
       "      <td>NaN</td>\n",
       "      <td>6037.0</td>\n",
       "    </tr>\n",
       "    <tr>\n",
       "      <th>1</th>\n",
       "      <td>0.0</td>\n",
       "      <td>0.0</td>\n",
       "      <td>NaN</td>\n",
       "      <td>10.0</td>\n",
       "      <td>NaN</td>\n",
       "      <td>NaN</td>\n",
       "      <td>6037.0</td>\n",
       "    </tr>\n",
       "    <tr>\n",
       "      <th>2</th>\n",
       "      <td>0.0</td>\n",
       "      <td>0.0</td>\n",
       "      <td>NaN</td>\n",
       "      <td>10.0</td>\n",
       "      <td>NaN</td>\n",
       "      <td>NaN</td>\n",
       "      <td>6037.0</td>\n",
       "    </tr>\n",
       "  </tbody>\n",
       "</table>\n",
       "</div>"
      ],
      "text/plain": [
       "   bedroomcnt  bathroomcnt  calculatedfinishedsquarefeet  taxvaluedollarcnt  \\\n",
       "0         0.0          0.0                           NaN            27516.0   \n",
       "1         0.0          0.0                           NaN               10.0   \n",
       "2         0.0          0.0                           NaN               10.0   \n",
       "\n",
       "   yearbuilt  taxamount    fips  \n",
       "0        NaN        NaN  6037.0  \n",
       "1        NaN        NaN  6037.0  \n",
       "2        NaN        NaN  6037.0  "
      ]
     },
     "execution_count": 11,
     "metadata": {},
     "output_type": "execute_result"
    }
   ],
   "source": [
    "query = '''SELECT bedroomcnt, bathroomcnt, calculatedfinishedsquarefeet, taxvaluedollarcnt, yearbuilt, taxamount, fips \n",
    "           FROM properties_2017 WHERE propertylandusetypeid = 261'''\n",
    "url = get_connection('zillow')\n",
    "df = pd.read_sql(query,url)\n",
    "df.head(3)"
   ]
  },
  {
   "cell_type": "code",
   "execution_count": 14,
   "id": "e20e5b82-a62c-4bf0-a3f4-e890329a7f8c",
   "metadata": {},
   "outputs": [],
   "source": [
    "zil = wg.zillow_data()"
   ]
  },
  {
   "cell_type": "markdown",
   "id": "ead360a2-a96f-4204-a128-8f9cc2be4dee",
   "metadata": {},
   "source": [
    "## 2. Using your acquired Zillow data, walk through the summarization and cleaning steps in your wrangle.ipynb file like we did above. You may handle the missing values however you feel is appropriate and meaningful; remember to document your process and decisions using markdown and code commenting where helpful."
   ]
  },
  {
   "cell_type": "code",
   "execution_count": null,
   "id": "b0eac531-d75f-4e0e-9c5a-7dabb223eacc",
   "metadata": {},
   "outputs": [],
   "source": [
    "# First I will check for nulls"
   ]
  },
  {
   "cell_type": "code",
   "execution_count": 16,
   "id": "e707786b-c858-4cab-8f67-f683f938236d",
   "metadata": {},
   "outputs": [
    {
     "data": {
      "text/plain": [
       "bedroomcnt                        11\n",
       "bathroomcnt                       11\n",
       "calculatedfinishedsquarefeet    8484\n",
       "taxvaluedollarcnt                493\n",
       "yearbuilt                       9337\n",
       "taxamount                       4442\n",
       "fips                               0\n",
       "dtype: int64"
      ]
     },
     "execution_count": 16,
     "metadata": {},
     "output_type": "execute_result"
    }
   ],
   "source": [
    "zil.isna().sum()"
   ]
  },
  {
   "cell_type": "code",
   "execution_count": 17,
   "id": "ce802921-d429-4119-8baf-007ec359cdda",
   "metadata": {},
   "outputs": [
    {
     "data": {
      "text/plain": [
       "2152863"
      ]
     },
     "execution_count": 17,
     "metadata": {},
     "output_type": "execute_result"
    }
   ],
   "source": [
    "len(zil)"
   ]
  },
  {
   "cell_type": "markdown",
   "id": "2f3c4d05-806f-4585-a292-ca6fcf80b11b",
   "metadata": {},
   "source": [
    "Since there are only 11 nulls in bedroon and bathroom count I will drop those rows."
   ]
  },
  {
   "cell_type": "code",
   "execution_count": 22,
   "id": "edb5c6f3-c0ae-4435-b07e-f5708b096e40",
   "metadata": {},
   "outputs": [
    {
     "data": {
      "text/plain": [
       "bedroomcnt                         0\n",
       "bathroomcnt                        0\n",
       "calculatedfinishedsquarefeet    8477\n",
       "taxvaluedollarcnt                493\n",
       "yearbuilt                       9333\n",
       "taxamount                       4433\n",
       "fips                               0\n",
       "dtype: int64"
      ]
     },
     "execution_count": 22,
     "metadata": {},
     "output_type": "execute_result"
    }
   ],
   "source": [
    "zil = zil[zil.bedroomcnt.isna() != True]\n",
    "zil.isna().sum()"
   ]
  },
  {
   "cell_type": "code",
   "execution_count": 24,
   "id": "c414ba58-d236-427f-8544-8df0442d28ba",
   "metadata": {},
   "outputs": [
    {
     "data": {
      "text/html": [
       "<div>\n",
       "<style scoped>\n",
       "    .dataframe tbody tr th:only-of-type {\n",
       "        vertical-align: middle;\n",
       "    }\n",
       "\n",
       "    .dataframe tbody tr th {\n",
       "        vertical-align: top;\n",
       "    }\n",
       "\n",
       "    .dataframe thead th {\n",
       "        text-align: right;\n",
       "    }\n",
       "</style>\n",
       "<table border=\"1\" class=\"dataframe\">\n",
       "  <thead>\n",
       "    <tr style=\"text-align: right;\">\n",
       "      <th></th>\n",
       "      <th>bedroomcnt</th>\n",
       "      <th>bathroomcnt</th>\n",
       "      <th>calculatedfinishedsquarefeet</th>\n",
       "      <th>taxvaluedollarcnt</th>\n",
       "      <th>yearbuilt</th>\n",
       "      <th>taxamount</th>\n",
       "      <th>fips</th>\n",
       "    </tr>\n",
       "  </thead>\n",
       "  <tbody>\n",
       "    <tr>\n",
       "      <th>0</th>\n",
       "      <td>0.0</td>\n",
       "      <td>0.0</td>\n",
       "      <td>NaN</td>\n",
       "      <td>27516.0</td>\n",
       "      <td>NaN</td>\n",
       "      <td>NaN</td>\n",
       "      <td>6037.0</td>\n",
       "    </tr>\n",
       "    <tr>\n",
       "      <th>1</th>\n",
       "      <td>0.0</td>\n",
       "      <td>0.0</td>\n",
       "      <td>NaN</td>\n",
       "      <td>10.0</td>\n",
       "      <td>NaN</td>\n",
       "      <td>NaN</td>\n",
       "      <td>6037.0</td>\n",
       "    </tr>\n",
       "    <tr>\n",
       "      <th>2</th>\n",
       "      <td>0.0</td>\n",
       "      <td>0.0</td>\n",
       "      <td>NaN</td>\n",
       "      <td>10.0</td>\n",
       "      <td>NaN</td>\n",
       "      <td>NaN</td>\n",
       "      <td>6037.0</td>\n",
       "    </tr>\n",
       "    <tr>\n",
       "      <th>3</th>\n",
       "      <td>0.0</td>\n",
       "      <td>0.0</td>\n",
       "      <td>NaN</td>\n",
       "      <td>2108.0</td>\n",
       "      <td>NaN</td>\n",
       "      <td>174.21</td>\n",
       "      <td>6037.0</td>\n",
       "    </tr>\n",
       "    <tr>\n",
       "      <th>4</th>\n",
       "      <td>4.0</td>\n",
       "      <td>2.0</td>\n",
       "      <td>3633.0</td>\n",
       "      <td>296425.0</td>\n",
       "      <td>2005.0</td>\n",
       "      <td>6941.39</td>\n",
       "      <td>6037.0</td>\n",
       "    </tr>\n",
       "  </tbody>\n",
       "</table>\n",
       "</div>"
      ],
      "text/plain": [
       "   bedroomcnt  bathroomcnt  calculatedfinishedsquarefeet  taxvaluedollarcnt  \\\n",
       "0         0.0          0.0                           NaN            27516.0   \n",
       "1         0.0          0.0                           NaN               10.0   \n",
       "2         0.0          0.0                           NaN               10.0   \n",
       "3         0.0          0.0                           NaN             2108.0   \n",
       "4         4.0          2.0                        3633.0           296425.0   \n",
       "\n",
       "   yearbuilt  taxamount    fips  \n",
       "0        NaN        NaN  6037.0  \n",
       "1        NaN        NaN  6037.0  \n",
       "2        NaN        NaN  6037.0  \n",
       "3        NaN     174.21  6037.0  \n",
       "4     2005.0    6941.39  6037.0  "
      ]
     },
     "execution_count": 24,
     "metadata": {},
     "output_type": "execute_result"
    }
   ],
   "source": [
    "zil.head()"
   ]
  },
  {
   "cell_type": "markdown",
   "id": "570faa16-e99a-4e91-8c9c-4a07e520e22c",
   "metadata": {},
   "source": [
    "I will also drop the null values in taxvaluedollarcnt since there are 250,000 values, 500 values should not have any significant impact."
   ]
  },
  {
   "cell_type": "code",
   "execution_count": 27,
   "id": "26e232e4-6309-4177-bb09-21c180b16b06",
   "metadata": {},
   "outputs": [
    {
     "data": {
      "text/plain": [
       "bedroomcnt                         0\n",
       "bathroomcnt                        0\n",
       "calculatedfinishedsquarefeet    8099\n",
       "taxvaluedollarcnt                  0\n",
       "yearbuilt                       8958\n",
       "taxamount                       3971\n",
       "fips                               0\n",
       "dtype: int64"
      ]
     },
     "execution_count": 27,
     "metadata": {},
     "output_type": "execute_result"
    }
   ],
   "source": [
    "zil = zil[zil.taxvaluedollarcnt.isna() != True]\n",
    "zil.isna().sum()"
   ]
  },
  {
   "cell_type": "markdown",
   "id": "ecd9afc8-5f19-4fee-a2ee-a186099ded6d",
   "metadata": {},
   "source": [
    "## 3. Store all of the necessary functions to automate your process from acquiring the data to returning a cleaned dataframe with no missing values in your wrangle.py file. Name your final function wrangle_zillow."
   ]
  },
  {
   "cell_type": "code",
   "execution_count": null,
   "id": "48f2f156-5534-4070-9bc8-36033f1ee298",
   "metadata": {},
   "outputs": [],
   "source": []
  }
 ],
 "metadata": {
  "kernelspec": {
   "display_name": "Python 3 (ipykernel)",
   "language": "python",
   "name": "python3"
  },
  "language_info": {
   "codemirror_mode": {
    "name": "ipython",
    "version": 3
   },
   "file_extension": ".py",
   "mimetype": "text/x-python",
   "name": "python",
   "nbconvert_exporter": "python",
   "pygments_lexer": "ipython3",
   "version": "3.10.9"
  }
 },
 "nbformat": 4,
 "nbformat_minor": 5
}
